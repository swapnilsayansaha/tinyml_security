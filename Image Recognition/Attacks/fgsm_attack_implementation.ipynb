{
  "nbformat": 4,
  "nbformat_minor": 0,
  "metadata": {
    "colab": {
      "name": "fgsm_attack_implementation.ipynb",
      "provenance": [],
      "collapsed_sections": []
    },
    "kernelspec": {
      "name": "python3",
      "display_name": "Python 3"
    },
    "language_info": {
      "name": "python"
    }
  },
  "cells": [
    {
      "cell_type": "code",
      "execution_count": null,
      "metadata": {
        "id": "rmvZVcJ45PZX"
      },
      "outputs": [],
      "source": [
        "!pip install numpy==1.19.5\n",
        "!pip install pandas==1.3.1  \n",
        "!pip install tensorflow-gpu==2.5.0\n",
        "!pip install tensorflow-datasets==4.4.0\n",
        "!pip install tensorflow-hub==0.12.0  \n",
        "!pip install giotto-tda==0.5.1\n",
        "!pip install keras==2.7.0 \n",
        "!pip install keras-flops==0.1.2\n",
        "!pip install keras-tcn==3.3.0\n",
        "!pip install matplotlib==3.5.0\n",
        "!pip install jupyterlab==3.0.16\n",
        "!pip install torch==1.10.0             \n",
        "!pip install torchvision==0.11.1\n",
        "!pip install tqdm==4.61.2\n",
        "!pip install pytorch2keras==0.2.4 \n",
        "!pip install onnx==1.8.0              \n",
        "!pip install onnx-tf==1.8.0\n",
        "!pip install onnx2keras==0.0.24\n",
        "!pip install librosa==0.8.1\n",
        "!pip install kapre==0.2.0\n",
        "!pip install scikit-learn==0.24.2             \n",
        "!pip install scipy==1.7.0"
      ]
    },
    {
      "cell_type": "code",
      "source": [
        "import os\n",
        "import warnings\n",
        "warnings.filterwarnings('ignore')\n",
        "os.environ['TF_CPP_MIN_LOG_LEVEL'] = '3'\n",
        "os.environ[\"CUDA_DEVICE_ORDER\"] = \"PCI_BUS_ID\"\n",
        "os.environ[\"CUDA_VISIBLE_DEVICES\"]=\"1\"\n",
        "import pandas as pd\n",
        "import numpy as np\n",
        "from gtda.time_series import SlidingWindow\n",
        "import matplotlib.pyplot as plt\n",
        "import tensorflow as tf\n",
        "from tensorflow.python.keras.backend import set_session\n",
        "config = tf.compat.v1.ConfigProto() \n",
        "config.gpu_options.allow_growth = True  \n",
        "config.log_device_placement = True  \n",
        "sess2 = tf.compat.v1.Session(config=config)\n",
        "set_session(sess2) \n",
        "import tensorflow_datasets as tfds\n",
        "from tensorflow.keras.models import load_model\n",
        "from tensorflow.keras.applications import imagenet_utils\n",
        "from tensorflow.keras.preprocessing.image import img_to_array\n",
        "from tensorflow.keras.preprocessing.image import load_img"
      ],
      "metadata": {
        "id": "8NgXpkHi5_HL"
      },
      "execution_count": null,
      "outputs": []
    },
    {
      "cell_type": "code",
      "source": [
        "import os\n",
        "import numpy as np\n",
        "import tensorflow as tf\n",
        "from tensorflow.keras.applications.resnet50 import ResNet50, decode_predictions, preprocess_input\n",
        "from tensorflow.keras.preprocessing.image import load_img, img_to_array\n",
        "import matplotlib.pyplot as plt\n",
        "inputShape = (224, 224)\n",
        "preprocess = imagenet_utils.preprocess_input"
      ],
      "metadata": {
        "id": "5Xl88BII6C4O"
      },
      "execution_count": null,
      "outputs": []
    },
    {
      "cell_type": "code",
      "source": [
        "dataset_name = \"cifar10\"\n",
        "(ds_train, ds_test), ds_info = tfds.load(\n",
        "    dataset_name, split=[\"train\", \"test\"], with_info=True, as_supervised=True\n",
        ")\n",
        "NUM_CLASSES = ds_info.features[\"label\"].num_classes\n",
        "\n",
        "IMG_SIZE = 224\n",
        "batch_size = 1\n",
        "size = (IMG_SIZE, IMG_SIZE)\n",
        "ds_train = ds_train.map(lambda image, label: (tf.image.resize(image, size), label))\n",
        "ds_test = ds_test.map(lambda image, label: (tf.image.resize(image, size), label))\n",
        "\n",
        "def input_preprocess(image, label):\n",
        "    label = tf.one_hot(label, NUM_CLASSES)\n",
        "    return image, label\n",
        "\n",
        "\n",
        "ds_train = ds_train.map(\n",
        "    input_preprocess, num_parallel_calls=tf.data.AUTOTUNE\n",
        ")\n",
        "ds_train = ds_train.batch(batch_size=batch_size, drop_remainder=True)\n",
        "ds_train = ds_train.prefetch(tf.data.AUTOTUNE)\n",
        "\n",
        "ds_test = ds_test.map(input_preprocess)\n",
        "ds_test = ds_test.batch(batch_size=batch_size, drop_remainder=True)"
      ],
      "metadata": {
        "id": "iybcnR5x6G61"
      },
      "execution_count": null,
      "outputs": []
    },
    {
      "cell_type": "code",
      "source": [
        "model_path = input(\"model_path\")\n",
        "model  = tf.keras.models.load_model(model_path)"
      ],
      "metadata": {
        "id": "FT2nBE0J6Nhr"
      },
      "execution_count": null,
      "outputs": []
    },
    {
      "cell_type": "code",
      "source": [
        "from tensorflow.keras.losses import MSE\n",
        "import tensorflow as tf\n",
        "\n",
        "\n",
        "def fgsm_attack(model, image, label, eps):\n",
        "  image = tf.cast(image, tf.float32)\n",
        "  with tf.GradientTape() as tape:\n",
        "    tape.watch(image)\n",
        "    pred = model(image)\n",
        "    loss = MSE(label, pred)\n",
        "    gradient = tape.gradient(loss, image)\n",
        "    signedGrad = tf.sign(gradient)\n",
        "    adversary = (image + (signedGrad * eps)).numpy()\n",
        "    return adversary"
      ],
      "metadata": {
        "id": "wqueGLr16Plg"
      },
      "execution_count": null,
      "outputs": []
    },
    {
      "cell_type": "code",
      "source": [
        "def preprocess_img(image):\n",
        "    image = tf.cast(image, tf.float32)\n",
        "    image = tf.image.resize(image, (224, 224))\n",
        "    image = preprocess_input(image)\n",
        "    image = image[None, ...]\n",
        "    \n",
        "    return image"
      ],
      "metadata": {
        "id": "oC0RkILj6Tap"
      },
      "execution_count": null,
      "outputs": []
    },
    {
      "cell_type": "code",
      "source": [
        "count = 0\n",
        "for image, label in ds_test:\n",
        "  imageLabel = np.array(label).argmax()\n",
        "  imagePred = model.predict(image)\n",
        "  imagePred = imagePred.argmax()\n",
        "  print(\"image label\", imageLabel)\n",
        "  print(\"image pred\", imagePred)\n",
        "  adversary = fgsm_attack(model,image, label, eps=0.2)\n",
        "  pred = model.predict(adversary)\n",
        "  adversaryPred = pred[0].argmax()\n",
        "  print(\"adversaryPred\", adversaryPred)\n",
        "  if imagePred == adversaryPred:\n",
        "    count += 1\n",
        "\n",
        "print(\"Adversarial accuracy : \" count / len(ds_test)) # no of instances where adversarial prediction matches with the model prediction / total test samples"
      ],
      "metadata": {
        "id": "-xc9IoLS6Zj0"
      },
      "execution_count": null,
      "outputs": []
    }
  ]
}