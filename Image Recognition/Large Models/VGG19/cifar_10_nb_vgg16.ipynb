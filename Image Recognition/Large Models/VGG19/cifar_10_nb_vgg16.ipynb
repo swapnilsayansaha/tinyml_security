{
 "cells": [
  {
   "cell_type": "code",
   "execution_count": 1,
   "id": "3f85c4e3",
   "metadata": {},
   "outputs": [
    {
     "name": "stdout",
     "output_type": "stream",
     "text": [
      "Device mapping:\n",
      "/job:localhost/replica:0/task:0/device:GPU:0 -> device: 0, name: NVIDIA GeForce RTX 3090, pci bus id: 0000:21:00.0, compute capability: 8.6\n",
      "\n"
     ]
    }
   ],
   "source": [
    "import os\n",
    "import warnings\n",
    "warnings.filterwarnings('ignore')\n",
    "os.environ['TF_CPP_MIN_LOG_LEVEL'] = '3'\n",
    "os.environ[\"CUDA_DEVICE_ORDER\"] = \"PCI_BUS_ID\"\n",
    "os.environ[\"CUDA_VISIBLE_DEVICES\"]=\"1\"\n",
    "import pandas as pd\n",
    "import numpy as np\n",
    "from gtda.time_series import SlidingWindow\n",
    "import matplotlib.pyplot as plt\n",
    "import tensorflow as tf\n",
    "from tensorflow.python.keras.backend import set_session\n",
    "config = tf.compat.v1.ConfigProto() \n",
    "config.gpu_options.allow_growth = True  \n",
    "config.log_device_placement = True  \n",
    "sess2 = tf.compat.v1.Session(config=config)\n",
    "set_session(sess2) \n",
    "from tensorflow.keras.utils import get_custom_objects\n",
    "from tensorflow.keras.layers import Activation \n",
    "from tensorflow.keras.backend import sigmoid\n",
    "from tensorflow.keras.models import Model\n",
    "from tensorflow.keras.layers import Dense, Dropout, Activation, BatchNormalization, Flatten, GlobalAveragePooling2D\n",
    "from tensorflow.keras.optimizers import Adam\n",
    "from tensorflow.keras.callbacks import ModelCheckpoint, ReduceLROnPlateau\n",
    "from tensorflow.keras.models import Sequential\n",
    "from tensorflow.keras import layers\n",
    "import tensorflow_datasets as tfds\n",
    "from tensorflow.keras.models import load_model"
   ]
  },
  {
   "cell_type": "markdown",
   "id": "b15c1cd5",
   "metadata": {},
   "source": [
    "## Import Dataset"
   ]
  },
  {
   "cell_type": "code",
   "execution_count": 2,
   "id": "933d7ee7",
   "metadata": {},
   "outputs": [],
   "source": [
    "dataset_name = \"cifar10\"\n",
    "(ds_train, ds_test), ds_info = tfds.load(\n",
    "    dataset_name, split=[\"train\", \"test\"], with_info=True, as_supervised=True\n",
    ")\n",
    "NUM_CLASSES = ds_info.features[\"label\"].num_classes\n",
    "\n",
    "IMG_SIZE = 224\n",
    "batch_size = 64\n",
    "size = (IMG_SIZE, IMG_SIZE)\n",
    "ds_train = ds_train.map(lambda image, label: (tf.image.resize(image, size), label))\n",
    "ds_test = ds_test.map(lambda image, label: (tf.image.resize(image, size), label))\n",
    "\n",
    "def input_preprocess(image, label):\n",
    "    label = tf.one_hot(label, NUM_CLASSES)\n",
    "    return image, label\n",
    "\n",
    "\n",
    "ds_train = ds_train.map(\n",
    "    input_preprocess, num_parallel_calls=tf.data.AUTOTUNE\n",
    ")\n",
    "ds_train = ds_train.batch(batch_size=batch_size, drop_remainder=True)\n",
    "ds_train = ds_train.prefetch(tf.data.AUTOTUNE)\n",
    "\n",
    "ds_test = ds_test.map(input_preprocess)\n",
    "ds_test = ds_test.batch(batch_size=batch_size, drop_remainder=True)"
   ]
  },
  {
   "cell_type": "markdown",
   "id": "4da5c2f1",
   "metadata": {},
   "source": [
    "## Import Model"
   ]
  },
  {
   "cell_type": "code",
   "execution_count": 3,
   "id": "cd252ce2",
   "metadata": {},
   "outputs": [
    {
     "name": "stdout",
     "output_type": "stream",
     "text": [
      "Downloading data from https://storage.googleapis.com/tensorflow/keras-applications/vgg19/vgg19_weights_tf_dim_ordering_tf_kernels_notop.h5\n",
      "80142336/80134624 [==============================] - 4s 0us/step\n",
      "Model: \"model\"\n",
      "_________________________________________________________________\n",
      "Layer (type)                 Output Shape              Param #   \n",
      "=================================================================\n",
      "input_1 (InputLayer)         [(None, 224, 224, 3)]     0         \n",
      "_________________________________________________________________\n",
      "block1_conv1 (Conv2D)        (None, 224, 224, 64)      1792      \n",
      "_________________________________________________________________\n",
      "block1_conv2 (Conv2D)        (None, 224, 224, 64)      36928     \n",
      "_________________________________________________________________\n",
      "block1_pool (MaxPooling2D)   (None, 112, 112, 64)      0         \n",
      "_________________________________________________________________\n",
      "block2_conv1 (Conv2D)        (None, 112, 112, 128)     73856     \n",
      "_________________________________________________________________\n",
      "block2_conv2 (Conv2D)        (None, 112, 112, 128)     147584    \n",
      "_________________________________________________________________\n",
      "block2_pool (MaxPooling2D)   (None, 56, 56, 128)       0         \n",
      "_________________________________________________________________\n",
      "block3_conv1 (Conv2D)        (None, 56, 56, 256)       295168    \n",
      "_________________________________________________________________\n",
      "block3_conv2 (Conv2D)        (None, 56, 56, 256)       590080    \n",
      "_________________________________________________________________\n",
      "block3_conv3 (Conv2D)        (None, 56, 56, 256)       590080    \n",
      "_________________________________________________________________\n",
      "block3_conv4 (Conv2D)        (None, 56, 56, 256)       590080    \n",
      "_________________________________________________________________\n",
      "block3_pool (MaxPooling2D)   (None, 28, 28, 256)       0         \n",
      "_________________________________________________________________\n",
      "block4_conv1 (Conv2D)        (None, 28, 28, 512)       1180160   \n",
      "_________________________________________________________________\n",
      "block4_conv2 (Conv2D)        (None, 28, 28, 512)       2359808   \n",
      "_________________________________________________________________\n",
      "block4_conv3 (Conv2D)        (None, 28, 28, 512)       2359808   \n",
      "_________________________________________________________________\n",
      "block4_conv4 (Conv2D)        (None, 28, 28, 512)       2359808   \n",
      "_________________________________________________________________\n",
      "block4_pool (MaxPooling2D)   (None, 14, 14, 512)       0         \n",
      "_________________________________________________________________\n",
      "block5_conv1 (Conv2D)        (None, 14, 14, 512)       2359808   \n",
      "_________________________________________________________________\n",
      "block5_conv2 (Conv2D)        (None, 14, 14, 512)       2359808   \n",
      "_________________________________________________________________\n",
      "block5_conv3 (Conv2D)        (None, 14, 14, 512)       2359808   \n",
      "_________________________________________________________________\n",
      "block5_conv4 (Conv2D)        (None, 14, 14, 512)       2359808   \n",
      "_________________________________________________________________\n",
      "block5_pool (MaxPooling2D)   (None, 7, 7, 512)         0         \n",
      "_________________________________________________________________\n",
      "avg_pool (GlobalAveragePooli (None, 512)               0         \n",
      "_________________________________________________________________\n",
      "batch_normalization (BatchNo (None, 512)               2048      \n",
      "_________________________________________________________________\n",
      "top_dropout (Dropout)        (None, 512)               0         \n",
      "_________________________________________________________________\n",
      "pred (Dense)                 (None, 10)                5130      \n",
      "=================================================================\n",
      "Total params: 20,031,562\n",
      "Trainable params: 6,154\n",
      "Non-trainable params: 20,025,408\n",
      "_________________________________________________________________\n"
     ]
    }
   ],
   "source": [
    "inputs = layers.Input(shape=(IMG_SIZE, IMG_SIZE, 3))\n",
    "x = inputs \n",
    "model = tf.keras.applications.vgg19.VGG19(weights='imagenet',\n",
    "                                             input_tensor=x,include_top=False)\n",
    "\n",
    "model.trainable = False\n",
    "x = layers.GlobalAveragePooling2D(name=\"avg_pool\")(model.output)\n",
    "x = layers.BatchNormalization()(x)\n",
    "x = layers.Dropout(0.2, name=\"top_dropout\")(x)\n",
    "outputs = layers.Dense(10, activation=\"softmax\", name=\"pred\")(x)\n",
    "model = Model(inputs = inputs, outputs = outputs)\n",
    "model.summary()"
   ]
  },
  {
   "cell_type": "markdown",
   "id": "2748f3f3",
   "metadata": {},
   "source": [
    "## Transfer Learning on Model"
   ]
  },
  {
   "cell_type": "code",
   "execution_count": 4,
   "id": "77a1bda5",
   "metadata": {
    "scrolled": true
   },
   "outputs": [
    {
     "name": "stdout",
     "output_type": "stream",
     "text": [
      "Epoch 1/30\n",
      "781/781 [==============================] - 67s 79ms/step - loss: 0.8352 - accuracy: 0.7260 - val_loss: 0.6331 - val_accuracy: 0.7812\n",
      "Epoch 2/30\n",
      "781/781 [==============================] - 62s 79ms/step - loss: 0.7153 - accuracy: 0.7539 - val_loss: 0.6175 - val_accuracy: 0.7926\n",
      "Epoch 3/30\n",
      "781/781 [==============================] - 62s 79ms/step - loss: 0.7063 - accuracy: 0.7589 - val_loss: 0.6191 - val_accuracy: 0.7904\n",
      "Epoch 4/30\n",
      "781/781 [==============================] - 62s 80ms/step - loss: 0.7097 - accuracy: 0.7565 - val_loss: 0.6395 - val_accuracy: 0.7830\n",
      "Epoch 5/30\n",
      "781/781 [==============================] - 62s 79ms/step - loss: 0.7077 - accuracy: 0.7593 - val_loss: 0.6209 - val_accuracy: 0.7877\n",
      "Epoch 6/30\n",
      "781/781 [==============================] - 62s 79ms/step - loss: 0.7101 - accuracy: 0.7539 - val_loss: 0.6274 - val_accuracy: 0.7863\n",
      "Epoch 7/30\n",
      "781/781 [==============================] - 62s 79ms/step - loss: 0.7088 - accuracy: 0.7564 - val_loss: 0.6328 - val_accuracy: 0.7842\n",
      "Epoch 8/30\n",
      "781/781 [==============================] - 62s 79ms/step - loss: 0.7129 - accuracy: 0.7550 - val_loss: 0.6334 - val_accuracy: 0.7870\n",
      "Epoch 9/30\n",
      "781/781 [==============================] - 62s 79ms/step - loss: 0.7137 - accuracy: 0.7552 - val_loss: 0.6250 - val_accuracy: 0.7862\n",
      "Epoch 10/30\n",
      "781/781 [==============================] - 62s 79ms/step - loss: 0.7136 - accuracy: 0.7542 - val_loss: 0.6256 - val_accuracy: 0.7878\n",
      "Epoch 11/30\n",
      "781/781 [==============================] - 62s 79ms/step - loss: 0.7085 - accuracy: 0.7570 - val_loss: 0.6323 - val_accuracy: 0.7845\n",
      "Epoch 12/30\n",
      "781/781 [==============================] - 62s 79ms/step - loss: 0.7091 - accuracy: 0.7578 - val_loss: 0.6322 - val_accuracy: 0.7826\n",
      "Epoch 13/30\n",
      "781/781 [==============================] - 62s 79ms/step - loss: 0.7117 - accuracy: 0.7552 - val_loss: 0.6239 - val_accuracy: 0.7878\n",
      "Epoch 14/30\n",
      "781/781 [==============================] - 62s 79ms/step - loss: 0.7073 - accuracy: 0.7587 - val_loss: 0.6402 - val_accuracy: 0.7817\n",
      "Epoch 15/30\n",
      "781/781 [==============================] - 62s 79ms/step - loss: 0.7133 - accuracy: 0.7554 - val_loss: 0.6322 - val_accuracy: 0.7865\n",
      "Epoch 16/30\n",
      "781/781 [==============================] - 62s 79ms/step - loss: 0.7077 - accuracy: 0.7574 - val_loss: 0.6232 - val_accuracy: 0.7880\n",
      "Epoch 17/30\n",
      "781/781 [==============================] - 62s 79ms/step - loss: 0.7109 - accuracy: 0.7568 - val_loss: 0.6207 - val_accuracy: 0.7872\n",
      "Epoch 18/30\n",
      "781/781 [==============================] - 62s 79ms/step - loss: 0.7144 - accuracy: 0.7544 - val_loss: 0.6308 - val_accuracy: 0.7806\n",
      "Epoch 19/30\n",
      "781/781 [==============================] - 62s 79ms/step - loss: 0.7100 - accuracy: 0.7563 - val_loss: 0.6307 - val_accuracy: 0.7843\n",
      "Epoch 20/30\n",
      "781/781 [==============================] - 62s 79ms/step - loss: 0.7123 - accuracy: 0.7555 - val_loss: 0.6232 - val_accuracy: 0.7859\n",
      "Epoch 21/30\n",
      "781/781 [==============================] - 62s 79ms/step - loss: 0.7118 - accuracy: 0.7544 - val_loss: 0.6369 - val_accuracy: 0.7816\n",
      "Epoch 22/30\n",
      "781/781 [==============================] - 62s 79ms/step - loss: 0.7081 - accuracy: 0.7583 - val_loss: 0.6226 - val_accuracy: 0.7875\n",
      "Epoch 23/30\n",
      "781/781 [==============================] - 62s 79ms/step - loss: 0.7103 - accuracy: 0.7573 - val_loss: 0.6383 - val_accuracy: 0.7800\n",
      "Epoch 24/30\n",
      "781/781 [==============================] - 62s 79ms/step - loss: 0.7123 - accuracy: 0.7556 - val_loss: 0.6223 - val_accuracy: 0.7881\n",
      "Epoch 25/30\n",
      "781/781 [==============================] - 62s 79ms/step - loss: 0.7087 - accuracy: 0.7576 - val_loss: 0.6243 - val_accuracy: 0.7876\n",
      "Epoch 26/30\n",
      "781/781 [==============================] - 62s 79ms/step - loss: 0.7108 - accuracy: 0.7567 - val_loss: 0.6269 - val_accuracy: 0.7862\n",
      "Epoch 27/30\n",
      "781/781 [==============================] - 62s 79ms/step - loss: 0.7076 - accuracy: 0.7577 - val_loss: 0.6332 - val_accuracy: 0.7862\n",
      "Epoch 28/30\n",
      "781/781 [==============================] - 62s 79ms/step - loss: 0.7102 - accuracy: 0.7565 - val_loss: 0.6375 - val_accuracy: 0.7797\n",
      "Epoch 29/30\n",
      "781/781 [==============================] - 62s 79ms/step - loss: 0.7091 - accuracy: 0.7580 - val_loss: 0.6359 - val_accuracy: 0.7845\n",
      "Epoch 30/30\n",
      "781/781 [==============================] - 62s 79ms/step - loss: 0.7119 - accuracy: 0.7554 - val_loss: 0.6216 - val_accuracy: 0.7916\n"
     ]
    },
    {
     "data": {
      "text/plain": [
       "<tensorflow.python.keras.callbacks.History at 0x7fe5882ef040>"
      ]
     },
     "execution_count": 4,
     "metadata": {},
     "output_type": "execute_result"
    }
   ],
   "source": [
    "model_name = 'vgg16_cifar10.h5'\n",
    "model.compile(loss='categorical_crossentropy',\n",
    "              optimizer=Adam(1e-2),\n",
    "              metrics=['accuracy'])\n",
    "\n",
    "checkpoint = ModelCheckpoint(model_name, save_best_only=True, monitor='val_accuracy')\n",
    "model.fit(ds_train,\n",
    "              epochs=30,\n",
    "              validation_data=ds_test,\n",
    "              callbacks=[checkpoint],\n",
    "              shuffle=True,\n",
    "              verbose=1)"
   ]
  },
  {
   "cell_type": "code",
   "execution_count": 5,
   "id": "85a39b06",
   "metadata": {},
   "outputs": [
    {
     "name": "stdout",
     "output_type": "stream",
     "text": [
      "Epoch 1/30\n",
      "781/781 [==============================] - 96s 122ms/step - loss: 0.5114 - accuracy: 0.8294 - val_loss: 0.5572 - val_accuracy: 0.8236\n",
      "Epoch 2/30\n",
      "781/781 [==============================] - 95s 122ms/step - loss: 0.2658 - accuracy: 0.9095 - val_loss: 0.5730 - val_accuracy: 0.8257\n",
      "Epoch 3/30\n",
      "781/781 [==============================] - 95s 122ms/step - loss: 0.1697 - accuracy: 0.9419 - val_loss: 0.5171 - val_accuracy: 0.8429\n",
      "Epoch 4/30\n",
      "781/781 [==============================] - 95s 122ms/step - loss: 0.1182 - accuracy: 0.9602 - val_loss: 0.4575 - val_accuracy: 0.8684\n",
      "Epoch 5/30\n",
      "781/781 [==============================] - 95s 122ms/step - loss: 0.0886 - accuracy: 0.9696 - val_loss: 0.3965 - val_accuracy: 0.8875\n",
      "Epoch 6/30\n",
      "781/781 [==============================] - 95s 122ms/step - loss: 0.0787 - accuracy: 0.9729 - val_loss: 0.4020 - val_accuracy: 0.8930\n",
      "Epoch 7/30\n",
      "781/781 [==============================] - 95s 122ms/step - loss: 0.0539 - accuracy: 0.9820 - val_loss: 0.3729 - val_accuracy: 0.9115\n",
      "Epoch 8/30\n",
      "781/781 [==============================] - 95s 122ms/step - loss: 0.0536 - accuracy: 0.9816 - val_loss: 0.3518 - val_accuracy: 0.9070\n",
      "Epoch 9/30\n",
      "781/781 [==============================] - 95s 121ms/step - loss: 0.0492 - accuracy: 0.9838 - val_loss: 0.3430 - val_accuracy: 0.9150\n",
      "Epoch 10/30\n",
      "781/781 [==============================] - 95s 122ms/step - loss: 0.0351 - accuracy: 0.9885 - val_loss: 0.4558 - val_accuracy: 0.8943\n",
      "Epoch 11/30\n",
      "781/781 [==============================] - 95s 122ms/step - loss: 0.0411 - accuracy: 0.9864 - val_loss: 0.4779 - val_accuracy: 0.8969\n",
      "Epoch 12/30\n",
      "781/781 [==============================] - 95s 121ms/step - loss: 0.0365 - accuracy: 0.9879 - val_loss: 0.4091 - val_accuracy: 0.9050\n",
      "Epoch 13/30\n",
      "781/781 [==============================] - 95s 122ms/step - loss: 0.0349 - accuracy: 0.9887 - val_loss: 0.3901 - val_accuracy: 0.8977\n",
      "Epoch 14/30\n",
      "781/781 [==============================] - 95s 121ms/step - loss: 0.0274 - accuracy: 0.9913 - val_loss: 0.3962 - val_accuracy: 0.9032\n",
      "Epoch 15/30\n",
      "781/781 [==============================] - 95s 121ms/step - loss: 0.0265 - accuracy: 0.9913 - val_loss: 0.3593 - val_accuracy: 0.9106\n",
      "Epoch 16/30\n",
      "781/781 [==============================] - 95s 121ms/step - loss: 0.0239 - accuracy: 0.9920 - val_loss: 0.3513 - val_accuracy: 0.9159\n",
      "Epoch 17/30\n",
      "781/781 [==============================] - 95s 121ms/step - loss: 0.0251 - accuracy: 0.9924 - val_loss: 0.4485 - val_accuracy: 0.9029\n",
      "Epoch 18/30\n",
      "781/781 [==============================] - 95s 122ms/step - loss: 0.0180 - accuracy: 0.9946 - val_loss: 0.3331 - val_accuracy: 0.9186\n",
      "Epoch 19/30\n",
      "781/781 [==============================] - 95s 122ms/step - loss: 0.0235 - accuracy: 0.9923 - val_loss: 0.4363 - val_accuracy: 0.9069\n",
      "Epoch 20/30\n",
      "781/781 [==============================] - 95s 122ms/step - loss: 0.0224 - accuracy: 0.9931 - val_loss: 0.4850 - val_accuracy: 0.8895\n",
      "Epoch 21/30\n",
      "781/781 [==============================] - 95s 122ms/step - loss: 0.0174 - accuracy: 0.9946 - val_loss: 0.4462 - val_accuracy: 0.9025\n",
      "Epoch 22/30\n",
      "781/781 [==============================] - 95s 121ms/step - loss: 0.0177 - accuracy: 0.9943 - val_loss: 0.3288 - val_accuracy: 0.9233\n",
      "Epoch 23/30\n",
      "781/781 [==============================] - 95s 121ms/step - loss: 0.0182 - accuracy: 0.9946 - val_loss: 0.4399 - val_accuracy: 0.9037\n",
      "Epoch 24/30\n",
      "781/781 [==============================] - 95s 122ms/step - loss: 0.0182 - accuracy: 0.9944 - val_loss: 0.4787 - val_accuracy: 0.9053\n",
      "Epoch 25/30\n",
      "781/781 [==============================] - 95s 121ms/step - loss: 0.0155 - accuracy: 0.9948 - val_loss: 0.4746 - val_accuracy: 0.8982\n",
      "Epoch 26/30\n",
      "781/781 [==============================] - 95s 122ms/step - loss: 0.0151 - accuracy: 0.9953 - val_loss: 0.4500 - val_accuracy: 0.9080\n",
      "Epoch 27/30\n",
      "781/781 [==============================] - 95s 122ms/step - loss: 0.0094 - accuracy: 0.9971 - val_loss: 0.3488 - val_accuracy: 0.9114\n",
      "Epoch 28/30\n",
      "781/781 [==============================] - 95s 122ms/step - loss: 0.0194 - accuracy: 0.9938 - val_loss: 0.4216 - val_accuracy: 0.9091\n",
      "Epoch 29/30\n",
      "781/781 [==============================] - 95s 121ms/step - loss: 0.0123 - accuracy: 0.9963 - val_loss: 0.3983 - val_accuracy: 0.9139\n",
      "Epoch 30/30\n",
      "781/781 [==============================] - 95s 122ms/step - loss: 0.0115 - accuracy: 0.9964 - val_loss: 0.5612 - val_accuracy: 0.8954\n"
     ]
    },
    {
     "data": {
      "text/plain": [
       "<tensorflow.python.keras.callbacks.History at 0x7fe5607cd2e0>"
      ]
     },
     "execution_count": 5,
     "metadata": {},
     "output_type": "execute_result"
    }
   ],
   "source": [
    "def unfreeze_model(model):\n",
    "    for layer in model.layers[-15:]:\n",
    "        if not isinstance(layer, layers.BatchNormalization):\n",
    "            layer.trainable = True\n",
    "\n",
    "    optimizer = tf.keras.optimizers.Adam(learning_rate=1e-4)\n",
    "    model.compile(\n",
    "        optimizer=optimizer, loss=\"categorical_crossentropy\", metrics=[\"accuracy\"]\n",
    "    )\n",
    "\n",
    "\n",
    "unfreeze_model(model)\n",
    "\n",
    "checkpoint = ModelCheckpoint(model_name, save_best_only=True, monitor='val_accuracy')\n",
    "model.fit(ds_train,\n",
    "              epochs=30,\n",
    "              validation_data=ds_test,\n",
    "              callbacks=[checkpoint],\n",
    "              shuffle=True,\n",
    "              verbose=1)"
   ]
  },
  {
   "cell_type": "code",
   "execution_count": 6,
   "id": "fc08754e",
   "metadata": {},
   "outputs": [],
   "source": [
    "new_model = load_model(model_name)"
   ]
  },
  {
   "cell_type": "code",
   "execution_count": 7,
   "id": "3e3e9754",
   "metadata": {},
   "outputs": [
    {
     "name": "stdout",
     "output_type": "stream",
     "text": [
      "156/156 [==============================] - 10s 64ms/step - loss: 0.3288 - accuracy: 0.9233\n"
     ]
    },
    {
     "data": {
      "text/plain": [
       "[0.32876715064048767, 0.9232772588729858]"
      ]
     },
     "execution_count": 7,
     "metadata": {},
     "output_type": "execute_result"
    }
   ],
   "source": [
    "new_model.evaluate(ds_test)"
   ]
  },
  {
   "cell_type": "code",
   "execution_count": null,
   "id": "d088bfd4",
   "metadata": {},
   "outputs": [],
   "source": []
  }
 ],
 "metadata": {
  "kernelspec": {
   "display_name": "Python 3 (ipykernel)",
   "language": "python",
   "name": "python3"
  },
  "language_info": {
   "codemirror_mode": {
    "name": "ipython",
    "version": 3
   },
   "file_extension": ".py",
   "mimetype": "text/x-python",
   "name": "python",
   "nbconvert_exporter": "python",
   "pygments_lexer": "ipython3",
   "version": "3.8.10"
  }
 },
 "nbformat": 4,
 "nbformat_minor": 5
}
