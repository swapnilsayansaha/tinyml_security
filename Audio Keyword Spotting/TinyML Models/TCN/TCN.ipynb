{
 "cells": [
  {
   "cell_type": "code",
   "execution_count": 1,
   "metadata": {},
   "outputs": [
    {
     "name": "stdout",
     "output_type": "stream",
     "text": [
      "Device mapping:\n",
      "/job:localhost/replica:0/task:0/device:GPU:0 -> device: 0, name: NVIDIA GeForce RTX 3090, pci bus id: 0000:21:00.0, compute capability: 8.6\n",
      "\n"
     ]
    }
   ],
   "source": [
    "import os\n",
    "import warnings\n",
    "warnings.filterwarnings('ignore')\n",
    "os.environ['TF_CPP_MIN_LOG_LEVEL'] = '3'\n",
    "os.environ[\"CUDA_DEVICE_ORDER\"] = \"PCI_BUS_ID\"\n",
    "os.environ[\"CUDA_VISIBLE_DEVICES\"]=\"1\"\n",
    "import pandas as pd\n",
    "import numpy as np\n",
    "from gtda.time_series import SlidingWindow\n",
    "import matplotlib.pyplot as plt\n",
    "import tensorflow as tf\n",
    "from tensorflow.python.keras.backend import set_session\n",
    "config = tf.compat.v1.ConfigProto() \n",
    "config.gpu_options.allow_growth = True  \n",
    "config.log_device_placement = True  \n",
    "sess2 = tf.compat.v1.Session(config=config)\n",
    "set_session(sess2) \n",
    "from tensorflow.keras.utils import get_custom_objects\n",
    "from tensorflow.keras.backend import sigmoid\n",
    "from tensorflow.keras.models import Model\n",
    "from tensorflow.keras.optimizers import Adam\n",
    "from tensorflow.keras.callbacks import ModelCheckpoint, ReduceLROnPlateau\n",
    "from tensorflow.keras.models import Sequential\n",
    "from tensorflow.keras import layers\n",
    "import tensorflow_datasets as tfds\n",
    "from tensorflow.keras.models import load_model\n",
    "import tensorflow_hub as hub\n",
    "from tcn import TCN, tcn_full_summary\n",
    "from tcn import compiled_tcn\n",
    "\n",
    "import get_dataset as kws_data\n",
    "import kws_util\n",
    "import argparse"
   ]
  },
  {
   "cell_type": "markdown",
   "metadata": {},
   "source": [
    "## Import Dataset"
   ]
  },
  {
   "cell_type": "code",
   "execution_count": 2,
   "metadata": {},
   "outputs": [
    {
     "name": "stdout",
     "output_type": "stream",
     "text": [
      "We will download data to /home/nesl/209as_sec/audio_ks/data\n",
      "Done getting data\n"
     ]
    }
   ],
   "source": [
    "Flags, unparsed = kws_util.parse_command()\n",
    "Flags.window_size_ms=40.0\n",
    "Flags.window_stride_ms=20.0\n",
    "Flags.data_dir = '/home/nesl/209as_sec/audio_ks/data'\n",
    "print('We will download data to {:}'.format(Flags.data_dir))\n",
    "ds_train, ds_test, ds_val = kws_data.get_training_data(Flags)\n",
    "print(\"Done getting data\")\n",
    "train_shuffle_buffer_size = 85511\n",
    "val_shuffle_buffer_size = 10102\n",
    "test_shuffle_buffer_size = 4890\n",
    "\n",
    "ds_train = ds_train.shuffle(train_shuffle_buffer_size)\n",
    "ds_val = ds_val.shuffle(val_shuffle_buffer_size)\n",
    "ds_test = ds_test.shuffle(test_shuffle_buffer_size)\n",
    "\n",
    "ds_train = ds_train.map(lambda x, y: (x, tf.one_hot(y, depth=12)))\n",
    "ds_val = ds_val.map(lambda x, y: (x, tf.one_hot(y, depth=12)))\n",
    "ds_test = ds_test.map(lambda x, y: (x, tf.one_hot(y, depth=12)))"
   ]
  },
  {
   "cell_type": "markdown",
   "metadata": {},
   "source": [
    "## Train Model"
   ]
  },
  {
   "cell_type": "code",
   "execution_count": 3,
   "metadata": {},
   "outputs": [
    {
     "name": "stdout",
     "output_type": "stream",
     "text": [
      "Model: \"model\"\n",
      "_________________________________________________________________\n",
      "Layer (type)                 Output Shape              Param #   \n",
      "=================================================================\n",
      "input_1 (InputLayer)         [(None, 49, 10, 1)]       0         \n",
      "_________________________________________________________________\n",
      "reshape (Reshape)            (None, 49, 10)            0         \n",
      "_________________________________________________________________\n",
      "tcn (TCN)                    (None, 6)                 19362     \n",
      "_________________________________________________________________\n",
      "pred (Dense)                 (None, 12)                84        \n",
      "=================================================================\n",
      "Total params: 19,446\n",
      "Trainable params: 19,446\n",
      "Non-trainable params: 0\n",
      "_________________________________________________________________\n"
     ]
    }
   ],
   "source": [
    "inputs = layers.Input((49,10,1))\n",
    "x = inputs\n",
    "x = layers.Reshape((49,10))(x)\n",
    "x = TCN(return_sequences=False,\n",
    "                     nb_filters=6,\n",
    "                     kernel_size=32,\n",
    "                     dilations=[1,2,4,8,16,32,64,128],\n",
    "                     nb_stacks=1,\n",
    "                     use_weight_norm=False,\n",
    "                     use_skip_connections=True)(x)\n",
    "outputs = layers.Dense(12, activation=\"softmax\", name=\"pred\")(x)\n",
    "model = Model(inputs = inputs, outputs = outputs)\n",
    "model.summary()"
   ]
  },
  {
   "cell_type": "code",
   "execution_count": 4,
   "metadata": {},
   "outputs": [
    {
     "name": "stdout",
     "output_type": "stream",
     "text": [
      "Epoch 1/50\n",
      "856/856 [==============================] - 29s 13ms/step - loss: 1.4673 - accuracy: 0.6128 - val_loss: 1.1854 - val_accuracy: 0.6520\n",
      "Epoch 2/50\n",
      "856/856 [==============================] - 24s 12ms/step - loss: 1.0108 - accuracy: 0.6911 - val_loss: 0.8248 - val_accuracy: 0.7393\n",
      "Epoch 3/50\n",
      "856/856 [==============================] - 24s 12ms/step - loss: 0.7480 - accuracy: 0.7608 - val_loss: 0.6777 - val_accuracy: 0.7786\n",
      "Epoch 4/50\n",
      "856/856 [==============================] - 25s 12ms/step - loss: 0.6416 - accuracy: 0.7936 - val_loss: 0.6315 - val_accuracy: 0.7951\n",
      "Epoch 5/50\n",
      "856/856 [==============================] - 25s 12ms/step - loss: 0.5863 - accuracy: 0.8111 - val_loss: 0.5701 - val_accuracy: 0.8122\n",
      "Epoch 6/50\n",
      "856/856 [==============================] - 26s 13ms/step - loss: 0.5532 - accuracy: 0.8217 - val_loss: 0.5284 - val_accuracy: 0.8275\n",
      "Epoch 7/50\n",
      "856/856 [==============================] - 26s 12ms/step - loss: 0.5271 - accuracy: 0.8296 - val_loss: 0.5137 - val_accuracy: 0.8346\n",
      "Epoch 8/50\n",
      "856/856 [==============================] - 25s 12ms/step - loss: 0.5054 - accuracy: 0.8365 - val_loss: 0.4992 - val_accuracy: 0.8386\n",
      "Epoch 9/50\n",
      "856/856 [==============================] - 25s 12ms/step - loss: 0.4891 - accuracy: 0.8418 - val_loss: 0.5109 - val_accuracy: 0.8328\n",
      "Epoch 10/50\n",
      "856/856 [==============================] - 25s 12ms/step - loss: 0.4799 - accuracy: 0.8451 - val_loss: 0.4854 - val_accuracy: 0.8427\n",
      "Epoch 11/50\n",
      "856/856 [==============================] - 25s 12ms/step - loss: 0.4682 - accuracy: 0.8493 - val_loss: 0.4734 - val_accuracy: 0.8505\n",
      "Epoch 12/50\n",
      "856/856 [==============================] - 25s 12ms/step - loss: 0.4610 - accuracy: 0.8508 - val_loss: 0.5077 - val_accuracy: 0.8388\n",
      "Epoch 13/50\n",
      "856/856 [==============================] - 26s 12ms/step - loss: 0.4485 - accuracy: 0.8558 - val_loss: 0.4662 - val_accuracy: 0.8519\n",
      "Epoch 14/50\n",
      "856/856 [==============================] - 26s 12ms/step - loss: 0.4433 - accuracy: 0.8567 - val_loss: 0.4537 - val_accuracy: 0.8497\n",
      "Epoch 15/50\n",
      "856/856 [==============================] - 24s 12ms/step - loss: 0.4327 - accuracy: 0.8604 - val_loss: 0.4601 - val_accuracy: 0.8561\n",
      "Epoch 16/50\n",
      "856/856 [==============================] - 25s 12ms/step - loss: 0.4310 - accuracy: 0.8604 - val_loss: 0.4452 - val_accuracy: 0.8565\n",
      "Epoch 17/50\n",
      "856/856 [==============================] - 24s 12ms/step - loss: 0.4241 - accuracy: 0.8638 - val_loss: 0.4544 - val_accuracy: 0.8549\n",
      "Epoch 18/50\n",
      "856/856 [==============================] - 25s 12ms/step - loss: 0.4185 - accuracy: 0.8648 - val_loss: 0.4412 - val_accuracy: 0.8592\n",
      "Epoch 19/50\n",
      "856/856 [==============================] - 25s 12ms/step - loss: 0.4142 - accuracy: 0.8655 - val_loss: 0.4649 - val_accuracy: 0.8530\n",
      "Epoch 20/50\n",
      "856/856 [==============================] - 26s 12ms/step - loss: 0.4088 - accuracy: 0.8681 - val_loss: 0.4481 - val_accuracy: 0.8582\n",
      "Epoch 21/50\n",
      "856/856 [==============================] - 26s 12ms/step - loss: 0.4067 - accuracy: 0.8692 - val_loss: 0.4345 - val_accuracy: 0.8577\n",
      "Epoch 22/50\n",
      "856/856 [==============================] - 25s 12ms/step - loss: 0.3990 - accuracy: 0.8712 - val_loss: 0.4322 - val_accuracy: 0.8680\n",
      "Epoch 23/50\n",
      "856/856 [==============================] - 25s 12ms/step - loss: 0.3971 - accuracy: 0.8724 - val_loss: 0.4366 - val_accuracy: 0.8592\n",
      "Epoch 24/50\n",
      "856/856 [==============================] - 25s 12ms/step - loss: 0.3924 - accuracy: 0.8746 - val_loss: 0.4312 - val_accuracy: 0.8621\n",
      "Epoch 25/50\n",
      "856/856 [==============================] - 25s 12ms/step - loss: 0.3892 - accuracy: 0.8733 - val_loss: 0.4460 - val_accuracy: 0.8600\n",
      "Epoch 26/50\n",
      "856/856 [==============================] - 25s 12ms/step - loss: 0.3867 - accuracy: 0.8750 - val_loss: 0.4367 - val_accuracy: 0.8601\n",
      "Epoch 27/50\n",
      "856/856 [==============================] - 26s 12ms/step - loss: 0.3836 - accuracy: 0.8759 - val_loss: 0.4299 - val_accuracy: 0.8654\n",
      "Epoch 28/50\n",
      "856/856 [==============================] - 27s 13ms/step - loss: 0.3796 - accuracy: 0.8776 - val_loss: 0.4271 - val_accuracy: 0.8652\n",
      "Epoch 29/50\n",
      "856/856 [==============================] - 25s 12ms/step - loss: 0.3778 - accuracy: 0.8788 - val_loss: 0.4263 - val_accuracy: 0.8630\n",
      "Epoch 30/50\n",
      "856/856 [==============================] - 24s 12ms/step - loss: 0.3743 - accuracy: 0.8800 - val_loss: 0.4247 - val_accuracy: 0.8649\n",
      "Epoch 31/50\n",
      "856/856 [==============================] - 24s 12ms/step - loss: 0.3738 - accuracy: 0.8802 - val_loss: 0.4086 - val_accuracy: 0.8716\n",
      "Epoch 32/50\n",
      "856/856 [==============================] - 25s 12ms/step - loss: 0.3711 - accuracy: 0.8801 - val_loss: 0.4158 - val_accuracy: 0.8687\n",
      "Epoch 33/50\n",
      "856/856 [==============================] - 25s 12ms/step - loss: 0.3676 - accuracy: 0.8822 - val_loss: 0.4434 - val_accuracy: 0.8596\n",
      "Epoch 34/50\n",
      "856/856 [==============================] - 26s 12ms/step - loss: 0.3647 - accuracy: 0.8831 - val_loss: 0.4212 - val_accuracy: 0.8713\n",
      "Epoch 35/50\n",
      "856/856 [==============================] - 27s 12ms/step - loss: 0.3627 - accuracy: 0.8833 - val_loss: 0.4057 - val_accuracy: 0.8718\n",
      "Epoch 36/50\n",
      "856/856 [==============================] - 25s 12ms/step - loss: 0.3612 - accuracy: 0.8838 - val_loss: 0.4105 - val_accuracy: 0.8674\n",
      "Epoch 37/50\n",
      "856/856 [==============================] - 25s 12ms/step - loss: 0.3609 - accuracy: 0.8832 - val_loss: 0.4003 - val_accuracy: 0.8754\n",
      "Epoch 38/50\n",
      "856/856 [==============================] - 25s 12ms/step - loss: 0.3581 - accuracy: 0.8854 - val_loss: 0.4415 - val_accuracy: 0.8589\n",
      "Epoch 39/50\n",
      "856/856 [==============================] - 25s 12ms/step - loss: 0.3558 - accuracy: 0.8857 - val_loss: 0.4133 - val_accuracy: 0.8704\n",
      "Epoch 40/50\n",
      "856/856 [==============================] - 25s 12ms/step - loss: 0.3517 - accuracy: 0.8875 - val_loss: 0.4323 - val_accuracy: 0.8638\n",
      "Epoch 41/50\n",
      "856/856 [==============================] - 26s 12ms/step - loss: 0.3497 - accuracy: 0.8876 - val_loss: 0.4146 - val_accuracy: 0.8697\n",
      "Epoch 42/50\n",
      "856/856 [==============================] - 26s 13ms/step - loss: 0.3493 - accuracy: 0.8879 - val_loss: 0.4212 - val_accuracy: 0.8716\n",
      "Epoch 43/50\n",
      "856/856 [==============================] - 25s 12ms/step - loss: 0.3477 - accuracy: 0.8870 - val_loss: 0.4056 - val_accuracy: 0.8696\n",
      "Epoch 44/50\n",
      "856/856 [==============================] - 24s 12ms/step - loss: 0.3447 - accuracy: 0.8890 - val_loss: 0.4064 - val_accuracy: 0.8747\n",
      "Epoch 45/50\n",
      "856/856 [==============================] - 24s 12ms/step - loss: 0.3430 - accuracy: 0.8895 - val_loss: 0.4114 - val_accuracy: 0.8703\n",
      "Epoch 46/50\n",
      "856/856 [==============================] - 26s 13ms/step - loss: 0.3404 - accuracy: 0.8895 - val_loss: 0.4137 - val_accuracy: 0.8691\n",
      "Epoch 47/50\n",
      "856/856 [==============================] - 27s 14ms/step - loss: 0.3410 - accuracy: 0.8902 - val_loss: 0.4082 - val_accuracy: 0.8764\n",
      "Epoch 48/50\n",
      "856/856 [==============================] - 27s 12ms/step - loss: 0.3392 - accuracy: 0.8912 - val_loss: 0.4281 - val_accuracy: 0.8676\n",
      "Epoch 49/50\n",
      "856/856 [==============================] - 27s 13ms/step - loss: 0.3379 - accuracy: 0.8910 - val_loss: 0.4061 - val_accuracy: 0.8749\n",
      "Epoch 50/50\n",
      "856/856 [==============================] - 27s 14ms/step - loss: 0.3341 - accuracy: 0.8923 - val_loss: 0.3992 - val_accuracy: 0.8768\n"
     ]
    },
    {
     "data": {
      "text/plain": [
       "<tensorflow.python.keras.callbacks.History at 0x7fe58a62aca0>"
      ]
     },
     "execution_count": 4,
     "metadata": {},
     "output_type": "execute_result"
    }
   ],
   "source": [
    "model_name = 'tcn_kws.h5'\n",
    "model.compile(loss='categorical_crossentropy',\n",
    "              optimizer=Adam(),\n",
    "              metrics=['accuracy'])\n",
    "\n",
    "checkpoint = ModelCheckpoint(model_name, save_best_only=True, monitor='val_accuracy')\n",
    "model.fit(ds_train,\n",
    "              epochs=50,\n",
    "              validation_data=ds_val,\n",
    "              callbacks=[checkpoint],\n",
    "              shuffle=True,\n",
    "              verbose=1)"
   ]
  },
  {
   "cell_type": "markdown",
   "metadata": {},
   "source": [
    "## Evaluate Model"
   ]
  },
  {
   "cell_type": "code",
   "execution_count": 5,
   "metadata": {},
   "outputs": [
    {
     "name": "stdout",
     "output_type": "stream",
     "text": [
      "49/49 [==============================] - 2s 9ms/step - loss: 0.7889 - accuracy: 0.7571\n"
     ]
    },
    {
     "data": {
      "text/plain": [
       "[0.7888501882553101, 0.7570552229881287]"
      ]
     },
     "execution_count": 5,
     "metadata": {},
     "output_type": "execute_result"
    }
   ],
   "source": [
    "new_model = load_model(model_name,custom_objects={'TCN': TCN})\n",
    "new_model.evaluate(ds_test)"
   ]
  },
  {
   "cell_type": "code",
   "execution_count": null,
   "metadata": {},
   "outputs": [],
   "source": []
  }
 ],
 "metadata": {
  "kernelspec": {
   "display_name": "Python 3",
   "language": "python",
   "name": "python3"
  },
  "language_info": {
   "codemirror_mode": {
    "name": "ipython",
    "version": 3
   },
   "file_extension": ".py",
   "mimetype": "text/x-python",
   "name": "python",
   "nbconvert_exporter": "python",
   "pygments_lexer": "ipython3",
   "version": "3.8.10"
  }
 },
 "nbformat": 4,
 "nbformat_minor": 5
}
