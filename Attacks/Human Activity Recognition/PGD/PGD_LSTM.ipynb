{
 "cells": [
  {
   "cell_type": "code",
   "execution_count": null,
   "id": "09961439",
   "metadata": {},
   "outputs": [],
   "source": [
    "import os\n",
    "os.environ['TF_CPP_MIN_LOG_LEVEL'] = '3'\n",
    "import warnings\n",
    "warnings.filterwarnings('ignore')\n",
    "os.environ[\"CUDA_DEVICE_ORDER\"] = \"PCI_BUS_ID\"\n",
    "os.environ[\"CUDA_VISIBLE_DEVICES\"]=\"1\"\n",
    "import pandas as pd\n",
    "import numpy as np\n",
    "from gtda.time_series import SlidingWindow\n",
    "import matplotlib.pyplot as plt\n",
    "from tensorflow.python.keras.backend import set_session\n",
    "import tensorflow as tf\n",
    "config = tf.compat.v1.ConfigProto() \n",
    "config.gpu_options.allow_growth = True  \n",
    "config.log_device_placement = True  \n",
    "sess2 = tf.compat.v1.Session(config=config)\n",
    "set_session(sess2)  \n",
    "from tensorflow.keras import Input, Model, layers\n",
    "from tensorflow.keras.callbacks import ModelCheckpoint\n",
    "import tensorflow.compat.v1.keras.backend as K\n",
    "from tensorflow.keras.models import load_model\n",
    "from tensorflow.keras.utils import to_categorical\n",
    "import csv\n",
    "import random\n",
    "import itertools\n",
    "import time\n",
    "import pickle\n",
    "from data_utils import *\n",
    "\n",
    "from tensorflow.keras.models import Sequential\n",
    "from tensorflow.keras.layers import Conv2D, MaxPooling2D, LSTM, Dense, Dropout, Flatten, Bidirectional\n",
    "from tensorflow.keras.layers import BatchNormalization\n",
    "from tensorflow.keras.layers import Permute, Reshape\n",
    "from tensorflow.keras import backend as K\n",
    "from tensorflow.keras.callbacks import ModelCheckpoint\n",
    "from tensorflow.keras import regularizers\n",
    "from tensorflow.keras.optimizers import Adam\n",
    "from tqdm import tqdm\n",
    "from tensorflow.keras.losses import MSE"
   ]
  },
  {
   "cell_type": "markdown",
   "id": "cb54ed34",
   "metadata": {},
   "source": [
    "## Import Dataset"
   ]
  },
  {
   "cell_type": "code",
   "execution_count": null,
   "id": "ab04714e",
   "metadata": {},
   "outputs": [],
   "source": [
    "sampling_rate = 100\n",
    "window_size = 550\n",
    "stride = 50\n",
    "f = '/home/nesl/209as_sec/human_act/Data/Activity_Dataset/'\n",
    "\n",
    "X_tr, Y_tr, X_test, Y_test = import_auritus_activity_dataset(dataset_folder = f, \n",
    "                                use_timestamp=False, \n",
    "                                shuffle=True, \n",
    "                                window_size = window_size, stride = stride, \n",
    "                                return_test_set = True, test_set_size = 300,channels=0)\n",
    "\n",
    "\n",
    "print(X_tr.shape)\n",
    "print(Y_tr.shape)\n",
    "print(X_test.shape)\n",
    "print(Y_test.shape)"
   ]
  },
  {
   "cell_type": "markdown",
   "id": "5a76c61b",
   "metadata": {},
   "source": [
    "## Load Model"
   ]
  },
  {
   "cell_type": "code",
   "execution_count": null,
   "id": "7bc1f1c7",
   "metadata": {},
   "outputs": [],
   "source": [
    "model = load_model('/home/nesl/209as_sec/human_act/Big Models/LSTM/lstm.h5')\n",
    "model.summary()"
   ]
  },
  {
   "cell_type": "markdown",
   "id": "5ef81b03",
   "metadata": {},
   "source": [
    "## Attack"
   ]
  },
  {
   "cell_type": "code",
   "execution_count": null,
   "id": "73b1e6b9",
   "metadata": {},
   "outputs": [],
   "source": [
    "def pgd_attack(model,iterations, image, label, alpha, eps):\n",
    "    gen_img = tf.identity(image)\n",
    "    gen_img = tf.cast(gen_img,dtype=tf.dtypes.float32)\n",
    "    gen_img = gen_img + tf.random.uniform(gen_img.get_shape().as_list(), minval=-eps, \n",
    "                                          maxval=eps, dtype=tf.dtypes.float32)\n",
    "    x_temp = image\n",
    "    for iter in range(iterations):\n",
    "        imgv = tf.Variable(gen_img)\n",
    "        with tf.GradientTape() as tape:\n",
    "            tape.watch(imgv)\n",
    "            predictions = model(imgv)\n",
    "            loss = tf.keras.losses.CategoricalCrossentropy()(label, predictions)\n",
    "            grads = tape.gradient(loss,imgv)\n",
    "        signed_grads = tf.sign(grads)\n",
    "        gen_img = gen_img + (alpha*signed_grads)\n",
    "        gen_img = tf.clip_by_value(gen_img, image-eps, image+eps)\n",
    "    return gen_img"
   ]
  },
  {
   "cell_type": "code",
   "execution_count": null,
   "id": "5e6d06bb",
   "metadata": {},
   "outputs": [],
   "source": [
    "eps = [0.1,0.3,0.5,0.7,0.9,1.0,2.0]\n",
    "iterations = 5\n",
    "alpha = [0.1,0.3,0.5,0.7,0.9,1.0]\n",
    "take_size = 4890\n",
    "accu_num = []\n",
    "eps_list = []\n",
    "alpha_list = []\n",
    "\n",
    "for al in alpha:\n",
    "    for item in eps:\n",
    "        countadv = 0\n",
    "        for i in tqdm(range(len(X_test))):\n",
    "            act = X_test[i,:,:].reshape(1,550,6)\n",
    "            label = Y_test[i,:].reshape(1,9)\n",
    "            actPred = model.predict(act)\n",
    "            actPred = actPred.argmax()\n",
    "            adversary = pgd_attack(model,iterations,act, label, alpha=al, eps=item)\n",
    "            pred = model.predict(adversary)\n",
    "            adversaryPred = pred[0].argmax()\n",
    "            if actPred == adversaryPred:\n",
    "                countadv += 1\n",
    "        \n",
    " \n",
    "        print(\"Adversarial accuracy : \", countadv / len(X_test))\n",
    "        accu_num.append(countadv / len(X_test))  \n",
    "        eps_list.append(item)\n",
    "        alpha_list.append(al)"
   ]
  },
  {
   "cell_type": "code",
   "execution_count": null,
   "id": "3fcb7736",
   "metadata": {},
   "outputs": [],
   "source": [
    "accu_num"
   ]
  },
  {
   "cell_type": "code",
   "execution_count": null,
   "id": "9021ed96",
   "metadata": {},
   "outputs": [],
   "source": [
    "eps_list"
   ]
  },
  {
   "cell_type": "code",
   "execution_count": null,
   "id": "a9589e31",
   "metadata": {},
   "outputs": [],
   "source": [
    "alpha_list"
   ]
  }
 ],
 "metadata": {
  "kernelspec": {
   "display_name": "Python 3 (ipykernel)",
   "language": "python",
   "name": "python3"
  },
  "language_info": {
   "codemirror_mode": {
    "name": "ipython",
    "version": 3
   },
   "file_extension": ".py",
   "mimetype": "text/x-python",
   "name": "python",
   "nbconvert_exporter": "python",
   "pygments_lexer": "ipython3",
   "version": "3.8.10"
  }
 },
 "nbformat": 4,
 "nbformat_minor": 5
}
