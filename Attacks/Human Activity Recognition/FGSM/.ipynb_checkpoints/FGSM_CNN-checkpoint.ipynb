{
 "cells": [
  {
   "cell_type": "code",
   "execution_count": null,
   "id": "18a693e3",
   "metadata": {},
   "outputs": [],
   "source": [
    "import os\n",
    "os.environ['TF_CPP_MIN_LOG_LEVEL'] = '3'\n",
    "import warnings\n",
    "warnings.filterwarnings('ignore')\n",
    "os.environ[\"CUDA_DEVICE_ORDER\"] = \"PCI_BUS_ID\"\n",
    "os.environ[\"CUDA_VISIBLE_DEVICES\"]=\"1\"\n",
    "import pandas as pd\n",
    "import numpy as np\n",
    "from gtda.time_series import SlidingWindow\n",
    "import matplotlib.pyplot as plt\n",
    "from tensorflow.python.keras.backend import set_session\n",
    "import tensorflow as tf\n",
    "config = tf.compat.v1.ConfigProto() \n",
    "config.gpu_options.allow_growth = True  \n",
    "config.log_device_placement = True  \n",
    "sess2 = tf.compat.v1.Session(config=config)\n",
    "set_session(sess2)  \n",
    "from tensorflow.keras import Input, Model, layers\n",
    "from tensorflow.keras.callbacks import ModelCheckpoint\n",
    "import tensorflow.compat.v1.keras.backend as K\n",
    "from tensorflow.keras.models import load_model\n",
    "from tensorflow.keras.utils import to_categorical\n",
    "import csv\n",
    "import random\n",
    "import itertools\n",
    "import time\n",
    "import pickle\n",
    "from data_utils import *\n",
    "\n",
    "from tensorflow.keras.models import Sequential\n",
    "from tensorflow.keras.layers import Conv2D, MaxPooling2D, LSTM, Dense, Dropout, Flatten, Bidirectional\n",
    "from tensorflow.keras.layers import BatchNormalization\n",
    "from tensorflow.keras.layers import Permute, Reshape\n",
    "from tensorflow.keras import backend as K\n",
    "from tensorflow.keras.callbacks import ModelCheckpoint\n",
    "from tensorflow.keras import regularizers\n",
    "from tensorflow.keras.optimizers import Adam\n",
    "from tqdm import tqdm\n",
    "from tensorflow.keras.losses import MSE"
   ]
  },
  {
   "cell_type": "markdown",
   "id": "6ed73dbb",
   "metadata": {},
   "source": [
    "## Import Dataset"
   ]
  },
  {
   "cell_type": "code",
   "execution_count": null,
   "id": "98daa356",
   "metadata": {},
   "outputs": [],
   "source": [
    "sampling_rate = 100\n",
    "window_size = 550\n",
    "stride = 50\n",
    "f = '/home/nesl/209as_sec/human_act/Data/Activity_Dataset/'\n",
    "\n",
    "X_tr, Y_tr, X_test, Y_test = import_auritus_activity_dataset(dataset_folder = f, \n",
    "                                use_timestamp=False, \n",
    "                                shuffle=True, \n",
    "                                window_size = window_size, stride = stride, \n",
    "                                return_test_set = True, test_set_size = 300,channels=0)\n",
    "\n",
    "X_tr = X_tr.swapaxes(1,2)\n",
    "X_test = X_test.swapaxes(1,2)\n",
    "\n",
    "\n",
    "\n",
    "_, dim, win_len = X_tr.shape\n",
    "\n",
    "X_tr = np.reshape(X_tr, (-1, dim, win_len, 1))\n",
    "X_test = np.reshape(X_test, (-1, dim, win_len, 1))\n",
    "\n",
    "print(X_tr.shape)\n",
    "print(Y_tr.shape)\n",
    "print(X_test.shape)\n",
    "print(Y_test.shape)"
   ]
  },
  {
   "cell_type": "markdown",
   "id": "3f84ad6c",
   "metadata": {},
   "source": [
    "## Load Model"
   ]
  },
  {
   "cell_type": "code",
   "execution_count": null,
   "id": "32315415",
   "metadata": {},
   "outputs": [],
   "source": [
    "model = load_model('/home/nesl/209as_sec/human_act/Big Models/CNN/cnn.h5')\n",
    "model.summary()"
   ]
  },
  {
   "cell_type": "markdown",
   "id": "c40006fe",
   "metadata": {},
   "source": [
    "## Attack"
   ]
  },
  {
   "cell_type": "code",
   "execution_count": null,
   "id": "8ad68689",
   "metadata": {},
   "outputs": [],
   "source": [
    "def fgsm_attack(model, image, label, eps):\n",
    "    image = tf.cast(image, tf.float32)\n",
    "    with tf.GradientTape() as tape:\n",
    "        tape.watch(image)\n",
    "        pred = model(image)\n",
    "        loss = MSE(label, pred)\n",
    "        gradient = tape.gradient(loss, image)\n",
    "        signedGrad = tf.sign(gradient)\n",
    "        adversary = (image + (signedGrad * eps)).numpy()\n",
    "        return adversary"
   ]
  },
  {
   "cell_type": "code",
   "execution_count": null,
   "id": "229299cd",
   "metadata": {},
   "outputs": [],
   "source": [
    "eps = [0.05,0.1,0.2,0.3,0.4,0.5,0.6,0.7,0.8,0.9,1.0,1.5,2.0,5.0,10.0,15.0,20.0,30.0,40.0,50.0]\n",
    "accu_num = []\n",
    "for item in eps:\n",
    "    countadv = 0\n",
    "    for i in tqdm(range(len(X_test))):\n",
    "        act = X_test[i,:,:].reshape(1,6,550,1)\n",
    "        label = Y_test[i,:]\n",
    "        actPred = model.predict(act)\n",
    "        actPred = actPred.argmax()\n",
    "        adversary = fgsm_attack(model,act, label, eps=item)\n",
    "        pred = model.predict(adversary)\n",
    "        adversaryPred = pred[0].argmax()\n",
    "        if actPred == adversaryPred:\n",
    "            countadv += 1\n",
    "        \n",
    " \n",
    "    print(\"Adversarial accuracy : \", countadv / len(X_test))\n",
    "    accu_num.append(countadv / len(X_test))       "
   ]
  },
  {
   "cell_type": "code",
   "execution_count": null,
   "id": "dbb88695",
   "metadata": {},
   "outputs": [],
   "source": [
    "accu_num"
   ]
  }
 ],
 "metadata": {
  "kernelspec": {
   "display_name": "Python 3 (ipykernel)",
   "language": "python",
   "name": "python3"
  },
  "language_info": {
   "codemirror_mode": {
    "name": "ipython",
    "version": 3
   },
   "file_extension": ".py",
   "mimetype": "text/x-python",
   "name": "python",
   "nbconvert_exporter": "python",
   "pygments_lexer": "ipython3",
   "version": "3.8.10"
  }
 },
 "nbformat": 4,
 "nbformat_minor": 5
}
