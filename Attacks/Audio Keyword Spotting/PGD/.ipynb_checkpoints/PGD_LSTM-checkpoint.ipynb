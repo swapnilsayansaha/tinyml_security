{
 "cells": [
  {
   "cell_type": "code",
   "execution_count": 1,
   "id": "5fee8f04",
   "metadata": {},
   "outputs": [
    {
     "name": "stdout",
     "output_type": "stream",
     "text": [
      "Device mapping:\n",
      "/job:localhost/replica:0/task:0/device:GPU:0 -> device: 0, name: NVIDIA GeForce RTX 3090, pci bus id: 0000:21:00.0, compute capability: 8.6\n",
      "\n"
     ]
    }
   ],
   "source": [
    "import os\n",
    "import warnings\n",
    "warnings.filterwarnings('ignore')\n",
    "os.environ['TF_CPP_MIN_LOG_LEVEL'] = '3'\n",
    "os.environ[\"CUDA_DEVICE_ORDER\"] = \"PCI_BUS_ID\"\n",
    "os.environ[\"CUDA_VISIBLE_DEVICES\"]=\"1\"\n",
    "import pandas as pd\n",
    "import numpy as np\n",
    "from gtda.time_series import SlidingWindow\n",
    "import matplotlib.pyplot as plt\n",
    "import tensorflow as tf\n",
    "from tensorflow.python.keras.backend import set_session\n",
    "config = tf.compat.v1.ConfigProto() \n",
    "config.gpu_options.allow_growth = True  \n",
    "config.log_device_placement = True  \n",
    "sess2 = tf.compat.v1.Session(config=config)\n",
    "set_session(sess2) \n",
    "from tensorflow.keras.utils import get_custom_objects\n",
    "from tensorflow.keras.backend import sigmoid\n",
    "from tensorflow.keras.models import Model\n",
    "from tensorflow.keras.optimizers import Adam\n",
    "from tensorflow.keras.callbacks import ModelCheckpoint, ReduceLROnPlateau\n",
    "from tensorflow.keras.models import Sequential\n",
    "from tensorflow.keras import layers\n",
    "from tensorflow.keras.losses import MSE\n",
    "import tensorflow_datasets as tfds\n",
    "from tensorflow.keras.models import load_model\n",
    "import tensorflow_hub as hub\n",
    "\n",
    "import get_dataset as kws_data\n",
    "import kws_util\n",
    "import argparse\n",
    "from tqdm import tqdm"
   ]
  },
  {
   "cell_type": "code",
   "execution_count": 2,
   "id": "928b83c6",
   "metadata": {},
   "outputs": [
    {
     "name": "stdout",
     "output_type": "stream",
     "text": [
      "We will download data to /home/nesl/209as_sec/audio_ks/data\n",
      "Done getting data\n"
     ]
    }
   ],
   "source": [
    "Flags, unparsed = kws_util.parse_command()\n",
    "Flags.window_size_ms=40.0\n",
    "Flags.window_stride_ms=20.0\n",
    "Flags.batch_size = 1\n",
    "Flags.data_dir = '/home/nesl/209as_sec/audio_ks/data'\n",
    "print('We will download data to {:}'.format(Flags.data_dir))\n",
    "ds_train, ds_test, ds_val = kws_data.get_training_data(Flags)\n",
    "print(\"Done getting data\")\n",
    "train_shuffle_buffer_size = 85511\n",
    "val_shuffle_buffer_size = 10102\n",
    "test_shuffle_buffer_size = 4890\n",
    "\n",
    "ds_train = ds_train.shuffle(train_shuffle_buffer_size)\n",
    "ds_val = ds_val.shuffle(val_shuffle_buffer_size)\n",
    "ds_test = ds_test.shuffle(test_shuffle_buffer_size)\n",
    "\n",
    "ds_train = ds_train.map(lambda x, y: (x, tf.one_hot(y, depth=12)))\n",
    "ds_val = ds_val.map(lambda x, y: (x, tf.one_hot(y, depth=12)))\n",
    "ds_test = ds_test.map(lambda x, y: (x, tf.one_hot(y, depth=12)))"
   ]
  },
  {
   "cell_type": "code",
   "execution_count": 3,
   "id": "ed4c309b",
   "metadata": {},
   "outputs": [
    {
     "name": "stdout",
     "output_type": "stream",
     "text": [
      "Model: \"model\"\n",
      "_________________________________________________________________\n",
      "Layer (type)                 Output Shape              Param #   \n",
      "=================================================================\n",
      "input_1 (InputLayer)         [(None, 49, 10, 1)]       0         \n",
      "_________________________________________________________________\n",
      "reshape (Reshape)            (None, 49, 10)            0         \n",
      "_________________________________________________________________\n",
      "lstm (LSTM)                  (None, 500)               1022000   \n",
      "_________________________________________________________________\n",
      "pred (Dense)                 (None, 12)                6012      \n",
      "=================================================================\n",
      "Total params: 1,028,012\n",
      "Trainable params: 1,028,012\n",
      "Non-trainable params: 0\n",
      "_________________________________________________________________\n"
     ]
    }
   ],
   "source": [
    "model = load_model('/home/nesl/209as_sec/audio_ks/Big Models/LSTM/lstm_large.h5')\n",
    "model.summary()"
   ]
  },
  {
   "cell_type": "code",
   "execution_count": 4,
   "id": "7ff555a2",
   "metadata": {},
   "outputs": [],
   "source": [
    "def pgd_attack(model,iterations, image, label, alpha, eps):\n",
    "    gen_img = tf.identity(image)\n",
    "    gen_img = gen_img + tf.random.uniform(gen_img.get_shape().as_list(), minval=-eps, \n",
    "                                          maxval=eps, dtype=tf.dtypes.float32)\n",
    "    x_temp = image\n",
    "    for iter in range(iterations):\n",
    "        imgv = tf.Variable(gen_img)\n",
    "        with tf.GradientTape() as tape:\n",
    "            tape.watch(imgv)\n",
    "            predictions = model(imgv)\n",
    "            loss = tf.keras.losses.CategoricalCrossentropy()(label, predictions)\n",
    "            grads = tape.gradient(loss,imgv)\n",
    "        signed_grads = tf.sign(grads)\n",
    "        gen_img = gen_img + (alpha*signed_grads)\n",
    "        gen_img = tf.clip_by_value(gen_img, image-eps, image+eps)\n",
    "    return gen_img"
   ]
  },
  {
   "cell_type": "code",
   "execution_count": 5,
   "id": "6990ef03",
   "metadata": {},
   "outputs": [
    {
     "name": "stderr",
     "output_type": "stream",
     "text": [
      "100%|███████████████████████████████████████| 4890/4890 [09:07<00:00,  8.93it/s]\n"
     ]
    },
    {
     "name": "stdout",
     "output_type": "stream",
     "text": [
      "Adversarial accuracy :  0.8805725971370143\n"
     ]
    },
    {
     "name": "stderr",
     "output_type": "stream",
     "text": [
      "100%|███████████████████████████████████████| 4890/4890 [10:04<00:00,  8.08it/s]\n"
     ]
    },
    {
     "name": "stdout",
     "output_type": "stream",
     "text": [
      "Adversarial accuracy :  0.5766871165644172\n"
     ]
    },
    {
     "name": "stderr",
     "output_type": "stream",
     "text": [
      "100%|███████████████████████████████████████| 4890/4890 [10:13<00:00,  7.97it/s]\n"
     ]
    },
    {
     "name": "stdout",
     "output_type": "stream",
     "text": [
      "Adversarial accuracy :  0.47730061349693254\n"
     ]
    },
    {
     "name": "stderr",
     "output_type": "stream",
     "text": [
      "100%|███████████████████████████████████████| 4890/4890 [10:23<00:00,  7.84it/s]\n"
     ]
    },
    {
     "name": "stdout",
     "output_type": "stream",
     "text": [
      "Adversarial accuracy :  0.4372188139059305\n"
     ]
    },
    {
     "name": "stderr",
     "output_type": "stream",
     "text": [
      "100%|███████████████████████████████████████| 4890/4890 [10:28<00:00,  7.79it/s]\n"
     ]
    },
    {
     "name": "stdout",
     "output_type": "stream",
     "text": [
      "Adversarial accuracy :  0.3983640081799591\n"
     ]
    },
    {
     "name": "stderr",
     "output_type": "stream",
     "text": [
      "100%|███████████████████████████████████████| 4890/4890 [10:28<00:00,  7.78it/s]\n"
     ]
    },
    {
     "name": "stdout",
     "output_type": "stream",
     "text": [
      "Adversarial accuracy :  0.38425357873210636\n"
     ]
    },
    {
     "name": "stderr",
     "output_type": "stream",
     "text": [
      "100%|███████████████████████████████████████| 4890/4890 [10:33<00:00,  7.72it/s]\n"
     ]
    },
    {
     "name": "stdout",
     "output_type": "stream",
     "text": [
      "Adversarial accuracy :  0.3016359918200409\n"
     ]
    },
    {
     "name": "stderr",
     "output_type": "stream",
     "text": [
      "100%|███████████████████████████████████████| 4890/4890 [10:38<00:00,  7.66it/s]\n"
     ]
    },
    {
     "name": "stdout",
     "output_type": "stream",
     "text": [
      "Adversarial accuracy :  0.8852760736196319\n"
     ]
    },
    {
     "name": "stderr",
     "output_type": "stream",
     "text": [
      "100%|███████████████████████████████████████| 4890/4890 [10:51<00:00,  7.51it/s]\n"
     ]
    },
    {
     "name": "stdout",
     "output_type": "stream",
     "text": [
      "Adversarial accuracy :  0.5157464212678936\n"
     ]
    },
    {
     "name": "stderr",
     "output_type": "stream",
     "text": [
      "100%|███████████████████████████████████████| 4890/4890 [10:52<00:00,  7.50it/s]\n"
     ]
    },
    {
     "name": "stdout",
     "output_type": "stream",
     "text": [
      "Adversarial accuracy :  0.2640081799591002\n"
     ]
    },
    {
     "name": "stderr",
     "output_type": "stream",
     "text": [
      "100%|███████████████████████████████████████| 4890/4890 [10:54<00:00,  7.47it/s]\n"
     ]
    },
    {
     "name": "stdout",
     "output_type": "stream",
     "text": [
      "Adversarial accuracy :  0.1652351738241309\n"
     ]
    },
    {
     "name": "stderr",
     "output_type": "stream",
     "text": [
      "100%|███████████████████████████████████████| 4890/4890 [10:54<00:00,  7.48it/s]\n"
     ]
    },
    {
     "name": "stdout",
     "output_type": "stream",
     "text": [
      "Adversarial accuracy :  0.1276073619631902\n"
     ]
    },
    {
     "name": "stderr",
     "output_type": "stream",
     "text": [
      "100%|███████████████████████████████████████| 4890/4890 [10:55<00:00,  7.46it/s]\n"
     ]
    },
    {
     "name": "stdout",
     "output_type": "stream",
     "text": [
      "Adversarial accuracy :  0.11554192229038855\n"
     ]
    },
    {
     "name": "stderr",
     "output_type": "stream",
     "text": [
      "100%|███████████████████████████████████████| 4890/4890 [10:51<00:00,  7.51it/s]\n"
     ]
    },
    {
     "name": "stdout",
     "output_type": "stream",
     "text": [
      "Adversarial accuracy :  0.08261758691206544\n"
     ]
    },
    {
     "name": "stderr",
     "output_type": "stream",
     "text": [
      "100%|███████████████████████████████████████| 4890/4890 [10:55<00:00,  7.46it/s]\n"
     ]
    },
    {
     "name": "stdout",
     "output_type": "stream",
     "text": [
      "Adversarial accuracy :  0.8858895705521472\n"
     ]
    },
    {
     "name": "stderr",
     "output_type": "stream",
     "text": [
      "100%|███████████████████████████████████████| 4890/4890 [10:55<00:00,  7.46it/s]\n"
     ]
    },
    {
     "name": "stdout",
     "output_type": "stream",
     "text": [
      "Adversarial accuracy :  0.5511247443762781\n"
     ]
    },
    {
     "name": "stderr",
     "output_type": "stream",
     "text": [
      "100%|███████████████████████████████████████| 4890/4890 [10:39<00:00,  7.64it/s]\n"
     ]
    },
    {
     "name": "stdout",
     "output_type": "stream",
     "text": [
      "Adversarial accuracy :  0.2607361963190184\n"
     ]
    },
    {
     "name": "stderr",
     "output_type": "stream",
     "text": [
      "100%|███████████████████████████████████████| 4890/4890 [10:29<00:00,  7.77it/s]\n"
     ]
    },
    {
     "name": "stdout",
     "output_type": "stream",
     "text": [
      "Adversarial accuracy :  0.1359918200408998\n"
     ]
    },
    {
     "name": "stderr",
     "output_type": "stream",
     "text": [
      "100%|███████████████████████████████████████| 4890/4890 [10:30<00:00,  7.76it/s]\n"
     ]
    },
    {
     "name": "stdout",
     "output_type": "stream",
     "text": [
      "Adversarial accuracy :  0.09795501022494887\n"
     ]
    },
    {
     "name": "stderr",
     "output_type": "stream",
     "text": [
      "100%|███████████████████████████████████████| 4890/4890 [10:30<00:00,  7.76it/s]\n"
     ]
    },
    {
     "name": "stdout",
     "output_type": "stream",
     "text": [
      "Adversarial accuracy :  0.0850715746421268\n"
     ]
    },
    {
     "name": "stderr",
     "output_type": "stream",
     "text": [
      "100%|███████████████████████████████████████| 4890/4890 [10:31<00:00,  7.74it/s]\n"
     ]
    },
    {
     "name": "stdout",
     "output_type": "stream",
     "text": [
      "Adversarial accuracy :  0.06196319018404908\n"
     ]
    },
    {
     "name": "stderr",
     "output_type": "stream",
     "text": [
      "100%|███████████████████████████████████████| 4890/4890 [10:27<00:00,  7.79it/s]\n"
     ]
    },
    {
     "name": "stdout",
     "output_type": "stream",
     "text": [
      "Adversarial accuracy :  0.8856850715746422\n"
     ]
    },
    {
     "name": "stderr",
     "output_type": "stream",
     "text": [
      "100%|███████████████████████████████████████| 4890/4890 [10:32<00:00,  7.73it/s]\n"
     ]
    },
    {
     "name": "stdout",
     "output_type": "stream",
     "text": [
      "Adversarial accuracy :  0.5695296523517382\n"
     ]
    },
    {
     "name": "stderr",
     "output_type": "stream",
     "text": [
      "100%|███████████████████████████████████████| 4890/4890 [10:31<00:00,  7.75it/s]\n"
     ]
    },
    {
     "name": "stdout",
     "output_type": "stream",
     "text": [
      "Adversarial accuracy :  0.2930470347648262\n"
     ]
    },
    {
     "name": "stderr",
     "output_type": "stream",
     "text": [
      "100%|███████████████████████████████████████| 4890/4890 [10:31<00:00,  7.74it/s]\n"
     ]
    },
    {
     "name": "stdout",
     "output_type": "stream",
     "text": [
      "Adversarial accuracy :  0.14314928425357873\n"
     ]
    },
    {
     "name": "stderr",
     "output_type": "stream",
     "text": [
      "100%|███████████████████████████████████████| 4890/4890 [10:30<00:00,  7.75it/s]\n"
     ]
    },
    {
     "name": "stdout",
     "output_type": "stream",
     "text": [
      "Adversarial accuracy :  0.09775051124744376\n"
     ]
    },
    {
     "name": "stderr",
     "output_type": "stream",
     "text": [
      "100%|███████████████████████████████████████| 4890/4890 [10:30<00:00,  7.75it/s]\n"
     ]
    },
    {
     "name": "stdout",
     "output_type": "stream",
     "text": [
      "Adversarial accuracy :  0.08323108384458078\n"
     ]
    },
    {
     "name": "stderr",
     "output_type": "stream",
     "text": [
      "100%|███████████████████████████████████████| 4890/4890 [10:29<00:00,  7.77it/s]\n"
     ]
    },
    {
     "name": "stdout",
     "output_type": "stream",
     "text": [
      "Adversarial accuracy :  0.05991820040899796\n"
     ]
    },
    {
     "name": "stderr",
     "output_type": "stream",
     "text": [
      "100%|███████████████████████████████████████| 4890/4890 [10:31<00:00,  7.75it/s]\n"
     ]
    },
    {
     "name": "stdout",
     "output_type": "stream",
     "text": [
      "Adversarial accuracy :  0.8856850715746422\n"
     ]
    },
    {
     "name": "stderr",
     "output_type": "stream",
     "text": [
      "100%|███████████████████████████████████████| 4890/4890 [10:31<00:00,  7.74it/s]\n"
     ]
    },
    {
     "name": "stdout",
     "output_type": "stream",
     "text": [
      "Adversarial accuracy :  0.5711656441717792\n"
     ]
    },
    {
     "name": "stderr",
     "output_type": "stream",
     "text": [
      "100%|███████████████████████████████████████| 4890/4890 [10:31<00:00,  7.75it/s]\n"
     ]
    },
    {
     "name": "stdout",
     "output_type": "stream",
     "text": [
      "Adversarial accuracy :  0.32331288343558284\n"
     ]
    },
    {
     "name": "stderr",
     "output_type": "stream",
     "text": [
      "100%|███████████████████████████████████████| 4890/4890 [10:20<00:00,  7.87it/s]\n"
     ]
    },
    {
     "name": "stdout",
     "output_type": "stream",
     "text": [
      "Adversarial accuracy :  0.16155419222903886\n"
     ]
    },
    {
     "name": "stderr",
     "output_type": "stream",
     "text": [
      "100%|███████████████████████████████████████| 4890/4890 [10:19<00:00,  7.89it/s]\n"
     ]
    },
    {
     "name": "stdout",
     "output_type": "stream",
     "text": [
      "Adversarial accuracy :  0.10593047034764826\n"
     ]
    },
    {
     "name": "stderr",
     "output_type": "stream",
     "text": [
      "100%|███████████████████████████████████████| 4890/4890 [10:19<00:00,  7.89it/s]\n"
     ]
    },
    {
     "name": "stdout",
     "output_type": "stream",
     "text": [
      "Adversarial accuracy :  0.08854805725971371\n"
     ]
    },
    {
     "name": "stderr",
     "output_type": "stream",
     "text": [
      "100%|███████████████████████████████████████| 4890/4890 [10:19<00:00,  7.90it/s]\n"
     ]
    },
    {
     "name": "stdout",
     "output_type": "stream",
     "text": [
      "Adversarial accuracy :  0.05766871165644172\n"
     ]
    },
    {
     "name": "stderr",
     "output_type": "stream",
     "text": [
      "100%|███████████████████████████████████████| 4890/4890 [10:20<00:00,  7.88it/s]\n"
     ]
    },
    {
     "name": "stdout",
     "output_type": "stream",
     "text": [
      "Adversarial accuracy :  0.8852760736196319\n"
     ]
    },
    {
     "name": "stderr",
     "output_type": "stream",
     "text": [
      "100%|███████████████████████████████████████| 4890/4890 [10:18<00:00,  7.91it/s]\n"
     ]
    },
    {
     "name": "stdout",
     "output_type": "stream",
     "text": [
      "Adversarial accuracy :  0.5680981595092025\n"
     ]
    },
    {
     "name": "stderr",
     "output_type": "stream",
     "text": [
      "100%|███████████████████████████████████████| 4890/4890 [10:20<00:00,  7.88it/s]\n"
     ]
    },
    {
     "name": "stdout",
     "output_type": "stream",
     "text": [
      "Adversarial accuracy :  0.34478527607361964\n"
     ]
    },
    {
     "name": "stderr",
     "output_type": "stream",
     "text": [
      "100%|███████████████████████████████████████| 4890/4890 [10:16<00:00,  7.93it/s]\n"
     ]
    },
    {
     "name": "stdout",
     "output_type": "stream",
     "text": [
      "Adversarial accuracy :  0.17300613496932515\n"
     ]
    },
    {
     "name": "stderr",
     "output_type": "stream",
     "text": [
      "100%|███████████████████████████████████████| 4890/4890 [10:18<00:00,  7.91it/s]\n"
     ]
    },
    {
     "name": "stdout",
     "output_type": "stream",
     "text": [
      "Adversarial accuracy :  0.10715746421267894\n"
     ]
    },
    {
     "name": "stderr",
     "output_type": "stream",
     "text": [
      "100%|███████████████████████████████████████| 4890/4890 [10:14<00:00,  7.95it/s]\n"
     ]
    },
    {
     "name": "stdout",
     "output_type": "stream",
     "text": [
      "Adversarial accuracy :  0.09325153374233129\n"
     ]
    },
    {
     "name": "stderr",
     "output_type": "stream",
     "text": [
      "100%|███████████████████████████████████████| 4890/4890 [10:01<00:00,  8.13it/s]"
     ]
    },
    {
     "name": "stdout",
     "output_type": "stream",
     "text": [
      "Adversarial accuracy :  0.05644171779141104\n"
     ]
    },
    {
     "name": "stderr",
     "output_type": "stream",
     "text": [
      "\n"
     ]
    }
   ],
   "source": [
    "eps = [0.1,0.3,0.5,0.7,0.9,1.0,2.0]\n",
    "iterations = 5\n",
    "alpha = [0.1,0.3,0.5,0.7,0.9,1.0]\n",
    "take_size = 4890\n",
    "accu_num = []\n",
    "eps_list = []\n",
    "alpha_list = []\n",
    "\n",
    "for al in alpha:\n",
    "    for item in eps:\n",
    "        countadv = 0\n",
    "        for image, label in tqdm(ds_test.take(take_size)):\n",
    "            imageLabel = np.array(label).argmax()\n",
    "            imagePred = model.predict(image)\n",
    "            imagePred = imagePred.argmax()\n",
    "            adversary = pgd_attack(model,iterations,image, label, alpha=al, eps=item)\n",
    "            pred = model.predict(adversary)\n",
    "            adversaryPred = pred[0].argmax()\n",
    "            if imagePred == adversaryPred:\n",
    "                countadv += 1\n",
    "            \n",
    "        print(\"Adversarial accuracy : \", countadv / take_size)\n",
    "        accu_num.append(countadv / take_size)\n",
    "        eps_list.append(item)\n",
    "        alpha_list.append(al)"
   ]
  },
  {
   "cell_type": "code",
   "execution_count": 6,
   "id": "7fc93e1e",
   "metadata": {},
   "outputs": [
    {
     "data": {
      "text/plain": [
       "[0.8805725971370143,\n",
       " 0.5766871165644172,\n",
       " 0.47730061349693254,\n",
       " 0.4372188139059305,\n",
       " 0.3983640081799591,\n",
       " 0.38425357873210636,\n",
       " 0.3016359918200409,\n",
       " 0.8852760736196319,\n",
       " 0.5157464212678936,\n",
       " 0.2640081799591002,\n",
       " 0.1652351738241309,\n",
       " 0.1276073619631902,\n",
       " 0.11554192229038855,\n",
       " 0.08261758691206544,\n",
       " 0.8858895705521472,\n",
       " 0.5511247443762781,\n",
       " 0.2607361963190184,\n",
       " 0.1359918200408998,\n",
       " 0.09795501022494887,\n",
       " 0.0850715746421268,\n",
       " 0.06196319018404908,\n",
       " 0.8856850715746422,\n",
       " 0.5695296523517382,\n",
       " 0.2930470347648262,\n",
       " 0.14314928425357873,\n",
       " 0.09775051124744376,\n",
       " 0.08323108384458078,\n",
       " 0.05991820040899796,\n",
       " 0.8856850715746422,\n",
       " 0.5711656441717792,\n",
       " 0.32331288343558284,\n",
       " 0.16155419222903886,\n",
       " 0.10593047034764826,\n",
       " 0.08854805725971371,\n",
       " 0.05766871165644172,\n",
       " 0.8852760736196319,\n",
       " 0.5680981595092025,\n",
       " 0.34478527607361964,\n",
       " 0.17300613496932515,\n",
       " 0.10715746421267894,\n",
       " 0.09325153374233129,\n",
       " 0.05644171779141104]"
      ]
     },
     "execution_count": 6,
     "metadata": {},
     "output_type": "execute_result"
    }
   ],
   "source": [
    "accu_num"
   ]
  },
  {
   "cell_type": "code",
   "execution_count": 7,
   "id": "a4063752",
   "metadata": {},
   "outputs": [
    {
     "data": {
      "text/plain": [
       "[0.1,\n",
       " 0.3,\n",
       " 0.5,\n",
       " 0.7,\n",
       " 0.9,\n",
       " 1.0,\n",
       " 2.0,\n",
       " 0.1,\n",
       " 0.3,\n",
       " 0.5,\n",
       " 0.7,\n",
       " 0.9,\n",
       " 1.0,\n",
       " 2.0,\n",
       " 0.1,\n",
       " 0.3,\n",
       " 0.5,\n",
       " 0.7,\n",
       " 0.9,\n",
       " 1.0,\n",
       " 2.0,\n",
       " 0.1,\n",
       " 0.3,\n",
       " 0.5,\n",
       " 0.7,\n",
       " 0.9,\n",
       " 1.0,\n",
       " 2.0,\n",
       " 0.1,\n",
       " 0.3,\n",
       " 0.5,\n",
       " 0.7,\n",
       " 0.9,\n",
       " 1.0,\n",
       " 2.0,\n",
       " 0.1,\n",
       " 0.3,\n",
       " 0.5,\n",
       " 0.7,\n",
       " 0.9,\n",
       " 1.0,\n",
       " 2.0]"
      ]
     },
     "execution_count": 7,
     "metadata": {},
     "output_type": "execute_result"
    }
   ],
   "source": [
    "eps_list"
   ]
  },
  {
   "cell_type": "code",
   "execution_count": 8,
   "id": "49917924",
   "metadata": {},
   "outputs": [
    {
     "data": {
      "text/plain": [
       "[0.1,\n",
       " 0.1,\n",
       " 0.1,\n",
       " 0.1,\n",
       " 0.1,\n",
       " 0.1,\n",
       " 0.1,\n",
       " 0.3,\n",
       " 0.3,\n",
       " 0.3,\n",
       " 0.3,\n",
       " 0.3,\n",
       " 0.3,\n",
       " 0.3,\n",
       " 0.5,\n",
       " 0.5,\n",
       " 0.5,\n",
       " 0.5,\n",
       " 0.5,\n",
       " 0.5,\n",
       " 0.5,\n",
       " 0.7,\n",
       " 0.7,\n",
       " 0.7,\n",
       " 0.7,\n",
       " 0.7,\n",
       " 0.7,\n",
       " 0.7,\n",
       " 0.9,\n",
       " 0.9,\n",
       " 0.9,\n",
       " 0.9,\n",
       " 0.9,\n",
       " 0.9,\n",
       " 0.9,\n",
       " 1.0,\n",
       " 1.0,\n",
       " 1.0,\n",
       " 1.0,\n",
       " 1.0,\n",
       " 1.0,\n",
       " 1.0]"
      ]
     },
     "execution_count": 8,
     "metadata": {},
     "output_type": "execute_result"
    }
   ],
   "source": [
    "alpha_list"
   ]
  }
 ],
 "metadata": {
  "kernelspec": {
   "display_name": "Python 3 (ipykernel)",
   "language": "python",
   "name": "python3"
  },
  "language_info": {
   "codemirror_mode": {
    "name": "ipython",
    "version": 3
   },
   "file_extension": ".py",
   "mimetype": "text/x-python",
   "name": "python",
   "nbconvert_exporter": "python",
   "pygments_lexer": "ipython3",
   "version": "3.8.10"
  }
 },
 "nbformat": 4,
 "nbformat_minor": 5
}
