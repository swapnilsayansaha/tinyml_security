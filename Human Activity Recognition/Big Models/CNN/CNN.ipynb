{
 "cells": [
  {
   "cell_type": "code",
   "execution_count": 1,
   "metadata": {},
   "outputs": [
    {
     "name": "stdout",
     "output_type": "stream",
     "text": [
      "Device mapping:\n",
      "/job:localhost/replica:0/task:0/device:GPU:0 -> device: 0, name: NVIDIA GeForce RTX 3090, pci bus id: 0000:21:00.0, compute capability: 8.6\n",
      "\n"
     ]
    }
   ],
   "source": [
    "import os\n",
    "os.environ['TF_CPP_MIN_LOG_LEVEL'] = '3'\n",
    "import warnings\n",
    "warnings.filterwarnings('ignore')\n",
    "os.environ[\"CUDA_DEVICE_ORDER\"] = \"PCI_BUS_ID\"\n",
    "os.environ[\"CUDA_VISIBLE_DEVICES\"]=\"1\"\n",
    "import pandas as pd\n",
    "import numpy as np\n",
    "from gtda.time_series import SlidingWindow\n",
    "import matplotlib.pyplot as plt\n",
    "from tensorflow.python.keras.backend import set_session\n",
    "import tensorflow as tf\n",
    "config = tf.compat.v1.ConfigProto() \n",
    "config.gpu_options.allow_growth = True  \n",
    "config.log_device_placement = True  \n",
    "sess2 = tf.compat.v1.Session(config=config)\n",
    "set_session(sess2)  \n",
    "from tensorflow.keras import Input, Model, layers\n",
    "from tensorflow.keras.callbacks import ModelCheckpoint\n",
    "import tensorflow.compat.v1.keras.backend as K\n",
    "from tensorflow.keras.models import load_model\n",
    "from tensorflow.keras.utils import to_categorical\n",
    "import csv\n",
    "import random\n",
    "import itertools\n",
    "import time\n",
    "import pickle\n",
    "from data_utils import *\n",
    "\n",
    "from tensorflow.keras.models import Sequential\n",
    "from tensorflow.keras.layers import Conv2D, MaxPooling2D, LSTM, Dense, Dropout, Flatten, Bidirectional\n",
    "from tensorflow.keras.layers import BatchNormalization\n",
    "from tensorflow.keras.layers import Permute, Reshape\n",
    "from tensorflow.keras import backend as K\n",
    "from tensorflow.keras.callbacks import ModelCheckpoint\n",
    "from tensorflow.keras import regularizers\n",
    "from tensorflow.keras.optimizers import Adam"
   ]
  },
  {
   "cell_type": "markdown",
   "metadata": {},
   "source": [
    "## Import dataset"
   ]
  },
  {
   "cell_type": "code",
   "execution_count": 2,
   "metadata": {},
   "outputs": [
    {
     "name": "stderr",
     "output_type": "stream",
     "text": [
      "100%|█████████████████████████████████████████| 399/399 [00:12<00:00, 32.74it/s]\n"
     ]
    },
    {
     "name": "stdout",
     "output_type": "stream",
     "text": [
      "(14671, 550, 6)\n",
      "(14671, 9)\n",
      "(300, 550, 6)\n",
      "(300, 9)\n"
     ]
    }
   ],
   "source": [
    "sampling_rate = 100\n",
    "window_size = 550\n",
    "stride = 50\n",
    "f = '/home/nesl/209as_sec/human_act/Data/Activity_Dataset/'\n",
    "\n",
    "X_tr, Y_tr, X_test, Y_test = import_auritus_activity_dataset(dataset_folder = f, \n",
    "                                use_timestamp=False, \n",
    "                                shuffle=True, \n",
    "                                window_size = window_size, stride = stride, \n",
    "                                return_test_set = True, test_set_size = 300,channels=0)\n",
    "\n",
    "print(X_tr.shape)\n",
    "print(Y_tr.shape)\n",
    "print(X_test.shape)\n",
    "print(Y_test.shape)\n",
    "\n",
    "X_tr = X_tr.swapaxes(1,2)\n",
    "X_test = X_test.swapaxes(1,2)"
   ]
  },
  {
   "cell_type": "markdown",
   "metadata": {},
   "source": [
    "## Training"
   ]
  },
  {
   "cell_type": "code",
   "execution_count": 3,
   "metadata": {},
   "outputs": [],
   "source": [
    "def model_variant(model, num_feat_map, dim, network_type,p):\n",
    "    print(network_type)\n",
    "    if network_type == 'ConvLSTM':\n",
    "        model.add(Permute((2, 1, 3))) \n",
    "        model.add(Reshape((-1,num_feat_map*dim)))\n",
    "        model.add(Bidirectional(LSTM(128, return_sequences=False, stateful=False)))\n",
    "    if network_type == 'CNN':\n",
    "        \n",
    "        model.add(Flatten())\n",
    "        model.add(Dense(64, activation='relu'))\n",
    "        model.add(BatchNormalization()) \n",
    "        model.add(Dropout(p))\n",
    "\n",
    "        \n",
    "def model_conv(model, num_feat_map,p,b):\n",
    "    model.add(Conv2D(num_feat_map, kernel_size=(1, 10),    \n",
    "                 activation='relu',\n",
    "                 input_shape=(dim, win_len, 1),\n",
    "                 padding='same'))\n",
    "    \n",
    "    model.add(Conv2D(num_feat_map, kernel_size=(1, 10), activation='relu',padding='same'))\n",
    "    \n",
    "    if (b==1):\n",
    "        model.add(BatchNormalization()) \n",
    "    model.add(Conv2D(num_feat_map, kernel_size=(1, 10), activation='relu',padding='same'))\n",
    "    \n",
    "    if (b==1):\n",
    "        model.add(BatchNormalization()) \n",
    "    model.add(MaxPooling2D(pool_size=(1, 3)))\n",
    "    \n",
    "    model.add(Conv2D(num_feat_map, kernel_size=(1, 10), activation='relu',padding='same')) \n",
    "    model.add(Conv2D(num_feat_map, kernel_size=(1, 10), activation='relu',padding='same'))\n",
    "    if (b==1):\n",
    "        model.add(BatchNormalization()) \n",
    "    model.add(MaxPooling2D(pool_size=(1, 2)))\n",
    "    model.add(Dropout(p))\n",
    "    \n",
    "    model.add(Conv2D(num_feat_map, kernel_size=(1, 10), activation='relu',padding='same'))  \n",
    "    if (b==1):\n",
    "        model.add(BatchNormalization()) \n",
    "    model.add(MaxPooling2D(pool_size=(1, 2)))\n",
    "    \n",
    "    model.add(Dropout(p))\n",
    "    \n",
    "def model_LSTM(model,p):\n",
    "    model.add(LSTM(num_hidden_lstm, \n",
    "               input_shape=(win_len,dim), \n",
    "               return_sequences=True))\n",
    "    model.add(Dropout(p))\n",
    "    model.add(LSTM(num_hidden_lstm, return_sequences=False))\n",
    "    model.add(Dropout(p))\n",
    "    \n",
    "def model_output(model):\n",
    "    model.add(Dense(num_classes, activation='softmax'))"
   ]
  },
  {
   "cell_type": "code",
   "execution_count": 4,
   "metadata": {},
   "outputs": [],
   "source": [
    "batch_size = 64\n",
    "num_feat_map = 128\n",
    "num_hidden_lstm = 128\n",
    "num_classes = 9\n",
    "\n",
    "\n",
    "network_type = 'CNN'\n",
    "_, dim, win_len = X_tr.shape\n",
    "\n",
    "X_tr = np.reshape(X_tr, (-1, dim, win_len, 1))\n",
    "X_test = np.reshape(X_test, (-1, dim, win_len, 1))"
   ]
  },
  {
   "cell_type": "code",
   "execution_count": 5,
   "metadata": {},
   "outputs": [
    {
     "name": "stdout",
     "output_type": "stream",
     "text": [
      "CNN\n",
      "Model: \"sequential\"\n",
      "_________________________________________________________________\n",
      "Layer (type)                 Output Shape              Param #   \n",
      "=================================================================\n",
      "conv2d (Conv2D)              (None, 6, 550, 128)       1408      \n",
      "_________________________________________________________________\n",
      "conv2d_1 (Conv2D)            (None, 6, 550, 128)       163968    \n",
      "_________________________________________________________________\n",
      "batch_normalization (BatchNo (None, 6, 550, 128)       512       \n",
      "_________________________________________________________________\n",
      "conv2d_2 (Conv2D)            (None, 6, 550, 128)       163968    \n",
      "_________________________________________________________________\n",
      "batch_normalization_1 (Batch (None, 6, 550, 128)       512       \n",
      "_________________________________________________________________\n",
      "max_pooling2d (MaxPooling2D) (None, 6, 183, 128)       0         \n",
      "_________________________________________________________________\n",
      "conv2d_3 (Conv2D)            (None, 6, 183, 128)       163968    \n",
      "_________________________________________________________________\n",
      "conv2d_4 (Conv2D)            (None, 6, 183, 128)       163968    \n",
      "_________________________________________________________________\n",
      "batch_normalization_2 (Batch (None, 6, 183, 128)       512       \n",
      "_________________________________________________________________\n",
      "max_pooling2d_1 (MaxPooling2 (None, 6, 91, 128)        0         \n",
      "_________________________________________________________________\n",
      "dropout (Dropout)            (None, 6, 91, 128)        0         \n",
      "_________________________________________________________________\n",
      "conv2d_5 (Conv2D)            (None, 6, 91, 128)        163968    \n",
      "_________________________________________________________________\n",
      "batch_normalization_3 (Batch (None, 6, 91, 128)        512       \n",
      "_________________________________________________________________\n",
      "max_pooling2d_2 (MaxPooling2 (None, 6, 45, 128)        0         \n",
      "_________________________________________________________________\n",
      "dropout_1 (Dropout)          (None, 6, 45, 128)        0         \n",
      "_________________________________________________________________\n",
      "flatten (Flatten)            (None, 34560)             0         \n",
      "_________________________________________________________________\n",
      "dense (Dense)                (None, 64)                2211904   \n",
      "_________________________________________________________________\n",
      "batch_normalization_4 (Batch (None, 64)                256       \n",
      "_________________________________________________________________\n",
      "dropout_2 (Dropout)          (None, 64)                0         \n",
      "_________________________________________________________________\n",
      "dense_1 (Dense)              (None, 9)                 585       \n",
      "=================================================================\n",
      "Total params: 3,036,041\n",
      "Trainable params: 3,034,889\n",
      "Non-trainable params: 1,152\n",
      "_________________________________________________________________\n"
     ]
    }
   ],
   "source": [
    "p=0.5 #Dropout\n",
    "b = 1 #BatchNorm\n",
    "model = Sequential()\n",
    "\n",
    "if network_type=='CNN' or network_type=='ConvLSTM':\n",
    "    model_conv(model, num_feat_map,p,b)\n",
    "    model_variant(model, num_feat_map, dim, network_type,p)\n",
    "if network_type=='LSTM':\n",
    "    model_LSTM(model,p)\n",
    "       \n",
    "model_output(model)    \n",
    "model.summary()"
   ]
  },
  {
   "cell_type": "code",
   "execution_count": 6,
   "metadata": {},
   "outputs": [
    {
     "name": "stdout",
     "output_type": "stream",
     "text": [
      "Epoch 1/40\n",
      "413/413 [==============================] - 12s 23ms/step - loss: 1.1119 - accuracy: 0.5841 - val_loss: 1.8399 - val_accuracy: 0.4087\n",
      "Epoch 2/40\n",
      "413/413 [==============================] - 9s 22ms/step - loss: 0.6570 - accuracy: 0.7445 - val_loss: 1.4413 - val_accuracy: 0.5163\n",
      "Epoch 3/40\n",
      "413/413 [==============================] - 9s 22ms/step - loss: 0.5351 - accuracy: 0.7892 - val_loss: 0.4712 - val_accuracy: 0.8202\n",
      "Epoch 4/40\n",
      "413/413 [==============================] - 9s 22ms/step - loss: 0.4329 - accuracy: 0.8271 - val_loss: 0.3952 - val_accuracy: 0.8590\n",
      "Epoch 5/40\n",
      "413/413 [==============================] - 9s 22ms/step - loss: 0.3788 - accuracy: 0.8528 - val_loss: 0.4055 - val_accuracy: 0.8413\n",
      "Epoch 6/40\n",
      "413/413 [==============================] - 9s 22ms/step - loss: 0.3242 - accuracy: 0.8744 - val_loss: 0.2981 - val_accuracy: 0.8726\n",
      "Epoch 7/40\n",
      "413/413 [==============================] - 9s 22ms/step - loss: 0.3245 - accuracy: 0.8706 - val_loss: 0.5522 - val_accuracy: 0.7793\n",
      "Epoch 8/40\n",
      "413/413 [==============================] - 9s 22ms/step - loss: 0.2805 - accuracy: 0.8883 - val_loss: 0.2784 - val_accuracy: 0.8835\n",
      "Epoch 9/40\n",
      "413/413 [==============================] - 9s 22ms/step - loss: 0.2636 - accuracy: 0.8940 - val_loss: 0.3017 - val_accuracy: 0.8753\n",
      "Epoch 10/40\n",
      "413/413 [==============================] - 9s 22ms/step - loss: 0.2481 - accuracy: 0.8994 - val_loss: 0.3230 - val_accuracy: 0.8692\n",
      "Epoch 11/40\n",
      "413/413 [==============================] - 9s 22ms/step - loss: 0.2266 - accuracy: 0.9075 - val_loss: 0.2641 - val_accuracy: 0.8856\n",
      "Epoch 12/40\n",
      "413/413 [==============================] - 9s 22ms/step - loss: 0.2124 - accuracy: 0.9133 - val_loss: 0.2088 - val_accuracy: 0.9121\n",
      "Epoch 13/40\n",
      "413/413 [==============================] - 9s 22ms/step - loss: 0.2019 - accuracy: 0.9187 - val_loss: 0.2068 - val_accuracy: 0.9176\n",
      "Epoch 14/40\n",
      "413/413 [==============================] - 9s 22ms/step - loss: 0.1919 - accuracy: 0.9240 - val_loss: 1.0053 - val_accuracy: 0.7193\n",
      "Epoch 15/40\n",
      "413/413 [==============================] - 9s 22ms/step - loss: 0.1726 - accuracy: 0.9352 - val_loss: 0.1640 - val_accuracy: 0.9332\n",
      "Epoch 16/40\n",
      "413/413 [==============================] - 9s 22ms/step - loss: 0.1661 - accuracy: 0.9371 - val_loss: 0.2060 - val_accuracy: 0.9189\n",
      "Epoch 17/40\n",
      "413/413 [==============================] - 9s 22ms/step - loss: 0.1516 - accuracy: 0.9402 - val_loss: 0.2359 - val_accuracy: 0.9155\n",
      "Epoch 18/40\n",
      "413/413 [==============================] - 9s 22ms/step - loss: 0.1374 - accuracy: 0.9483 - val_loss: 0.1416 - val_accuracy: 0.9475\n",
      "Epoch 19/40\n",
      "413/413 [==============================] - 9s 22ms/step - loss: 0.1179 - accuracy: 0.9571 - val_loss: 0.1690 - val_accuracy: 0.9421\n",
      "Epoch 20/40\n",
      "413/413 [==============================] - 9s 22ms/step - loss: 0.1220 - accuracy: 0.9567 - val_loss: 0.3493 - val_accuracy: 0.8958\n",
      "Epoch 21/40\n",
      "413/413 [==============================] - 9s 22ms/step - loss: 0.1304 - accuracy: 0.9514 - val_loss: 0.1231 - val_accuracy: 0.9550\n",
      "Epoch 22/40\n",
      "413/413 [==============================] - 9s 22ms/step - loss: 0.0958 - accuracy: 0.9668 - val_loss: 0.2729 - val_accuracy: 0.9033\n",
      "Epoch 23/40\n",
      "413/413 [==============================] - 9s 22ms/step - loss: 0.1112 - accuracy: 0.9611 - val_loss: 0.3335 - val_accuracy: 0.8992\n",
      "Epoch 24/40\n",
      "413/413 [==============================] - 9s 22ms/step - loss: 0.0897 - accuracy: 0.9687 - val_loss: 0.0920 - val_accuracy: 0.9687\n",
      "Epoch 25/40\n",
      "413/413 [==============================] - 9s 22ms/step - loss: 0.0790 - accuracy: 0.9719 - val_loss: 0.0911 - val_accuracy: 0.9687\n",
      "Epoch 26/40\n",
      "413/413 [==============================] - 9s 22ms/step - loss: 0.0798 - accuracy: 0.9709 - val_loss: 0.1339 - val_accuracy: 0.9544\n",
      "Epoch 27/40\n",
      "413/413 [==============================] - 9s 22ms/step - loss: 0.0774 - accuracy: 0.9727 - val_loss: 0.1446 - val_accuracy: 0.9455\n",
      "Epoch 28/40\n",
      "413/413 [==============================] - 9s 22ms/step - loss: 0.0694 - accuracy: 0.9758 - val_loss: 0.1409 - val_accuracy: 0.9516\n",
      "Epoch 29/40\n",
      "413/413 [==============================] - 9s 22ms/step - loss: 0.0708 - accuracy: 0.9745 - val_loss: 0.1664 - val_accuracy: 0.9496\n",
      "Epoch 30/40\n",
      "413/413 [==============================] - 9s 22ms/step - loss: 0.0653 - accuracy: 0.9765 - val_loss: 0.1841 - val_accuracy: 0.9462\n",
      "Epoch 31/40\n",
      "413/413 [==============================] - 9s 22ms/step - loss: 0.0636 - accuracy: 0.9785 - val_loss: 0.0813 - val_accuracy: 0.9755\n",
      "Epoch 32/40\n",
      "413/413 [==============================] - 9s 22ms/step - loss: 0.0598 - accuracy: 0.9802 - val_loss: 0.0791 - val_accuracy: 0.9734\n",
      "Epoch 33/40\n",
      "413/413 [==============================] - 9s 22ms/step - loss: 0.0529 - accuracy: 0.9842 - val_loss: 0.1054 - val_accuracy: 0.9653\n",
      "Epoch 34/40\n",
      "413/413 [==============================] - 9s 22ms/step - loss: 0.0671 - accuracy: 0.9773 - val_loss: 0.1110 - val_accuracy: 0.9659\n",
      "Epoch 35/40\n",
      "413/413 [==============================] - 9s 22ms/step - loss: 0.0512 - accuracy: 0.9825 - val_loss: 0.0956 - val_accuracy: 0.9632\n",
      "Epoch 36/40\n",
      "413/413 [==============================] - 9s 22ms/step - loss: 0.1315 - accuracy: 0.9549 - val_loss: 0.1725 - val_accuracy: 0.9326\n",
      "Epoch 37/40\n",
      "413/413 [==============================] - 9s 22ms/step - loss: 0.0777 - accuracy: 0.9742 - val_loss: 0.0768 - val_accuracy: 0.9775\n",
      "Epoch 38/40\n",
      "413/413 [==============================] - 9s 22ms/step - loss: 0.0522 - accuracy: 0.9818 - val_loss: 0.0820 - val_accuracy: 0.9707\n",
      "Epoch 39/40\n",
      "413/413 [==============================] - 9s 22ms/step - loss: 0.0438 - accuracy: 0.9851 - val_loss: 0.0700 - val_accuracy: 0.9728\n",
      "Epoch 40/40\n",
      "413/413 [==============================] - 9s 22ms/step - loss: 0.0463 - accuracy: 0.9845 - val_loss: 0.0507 - val_accuracy: 0.9823\n"
     ]
    },
    {
     "data": {
      "text/plain": [
       "<tensorflow.python.keras.callbacks.History at 0x7fa7d6b0ff70>"
      ]
     },
     "execution_count": 6,
     "metadata": {},
     "output_type": "execute_result"
    }
   ],
   "source": [
    "model_name = 'cnn.h5'\n",
    "model.compile(loss='categorical_crossentropy',\n",
    "              optimizer=Adam(),\n",
    "              metrics=['accuracy'])\n",
    "\n",
    "checkpoint = ModelCheckpoint(model_name, save_best_only=True, monitor='val_accuracy')\n",
    "model.fit(X_tr,Y_tr,\n",
    "              epochs=40,\n",
    "              validation_split=0.1,\n",
    "              callbacks=[checkpoint],\n",
    "              shuffle=True,\n",
    "              verbose=1)"
   ]
  },
  {
   "cell_type": "markdown",
   "metadata": {},
   "source": [
    "## Evaluate Model"
   ]
  },
  {
   "cell_type": "code",
   "execution_count": 7,
   "metadata": {},
   "outputs": [
    {
     "name": "stdout",
     "output_type": "stream",
     "text": [
      "10/10 [==============================] - 0s 13ms/step - loss: 0.0287 - accuracy: 0.9900\n"
     ]
    },
    {
     "data": {
      "text/plain": [
       "[0.02869269996881485, 0.9900000095367432]"
      ]
     },
     "execution_count": 7,
     "metadata": {},
     "output_type": "execute_result"
    }
   ],
   "source": [
    "new_model = load_model(model_name)\n",
    "new_model.evaluate(X_test,Y_test)"
   ]
  },
  {
   "cell_type": "code",
   "execution_count": null,
   "metadata": {},
   "outputs": [],
   "source": []
  }
 ],
 "metadata": {
  "kernelspec": {
   "display_name": "Python 3",
   "language": "python",
   "name": "python3"
  },
  "language_info": {
   "codemirror_mode": {
    "name": "ipython",
    "version": 3
   },
   "file_extension": ".py",
   "mimetype": "text/x-python",
   "name": "python",
   "nbconvert_exporter": "python",
   "pygments_lexer": "ipython3",
   "version": "3.8.10"
  }
 },
 "nbformat": 4,
 "nbformat_minor": 5
}
