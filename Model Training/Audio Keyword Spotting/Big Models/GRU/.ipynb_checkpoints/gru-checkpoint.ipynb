{
 "cells": [
  {
   "cell_type": "code",
   "execution_count": 1,
   "metadata": {
    "scrolled": true
   },
   "outputs": [
    {
     "name": "stdout",
     "output_type": "stream",
     "text": [
      "Device mapping:\n",
      "/job:localhost/replica:0/task:0/device:GPU:0 -> device: 0, name: NVIDIA GeForce RTX 3090, pci bus id: 0000:21:00.0, compute capability: 8.6\n",
      "\n"
     ]
    }
   ],
   "source": [
    "import os\n",
    "import warnings\n",
    "warnings.filterwarnings('ignore')\n",
    "os.environ['TF_CPP_MIN_LOG_LEVEL'] = '3'\n",
    "os.environ[\"CUDA_DEVICE_ORDER\"] = \"PCI_BUS_ID\"\n",
    "os.environ[\"CUDA_VISIBLE_DEVICES\"]=\"1\"\n",
    "import pandas as pd\n",
    "import numpy as np\n",
    "from gtda.time_series import SlidingWindow\n",
    "import matplotlib.pyplot as plt\n",
    "import tensorflow as tf\n",
    "from tensorflow.python.keras.backend import set_session\n",
    "config = tf.compat.v1.ConfigProto() \n",
    "config.gpu_options.allow_growth = True  \n",
    "config.log_device_placement = True  \n",
    "sess2 = tf.compat.v1.Session(config=config)\n",
    "set_session(sess2) \n",
    "from tensorflow.keras.utils import get_custom_objects\n",
    "from tensorflow.keras.backend import sigmoid\n",
    "from tensorflow.keras.models import Model\n",
    "from tensorflow.keras.optimizers import Adam\n",
    "from tensorflow.keras.callbacks import ModelCheckpoint, ReduceLROnPlateau\n",
    "from tensorflow.keras.models import Sequential\n",
    "from tensorflow.keras import layers\n",
    "import tensorflow_datasets as tfds\n",
    "from tensorflow.keras.models import load_model\n",
    "import tensorflow_hub as hub\n",
    "\n",
    "import get_dataset as kws_data\n",
    "import kws_util\n",
    "import argparse"
   ]
  },
  {
   "cell_type": "markdown",
   "metadata": {},
   "source": [
    "## Import Dataset"
   ]
  },
  {
   "cell_type": "code",
   "execution_count": 2,
   "metadata": {},
   "outputs": [
    {
     "name": "stdout",
     "output_type": "stream",
     "text": [
      "We will download data to /home/nesl/209as_sec/audio_ks/data\n",
      "Done getting data\n"
     ]
    }
   ],
   "source": [
    "Flags, unparsed = kws_util.parse_command()\n",
    "Flags.window_size_ms=40.0\n",
    "Flags.window_stride_ms=20.0\n",
    "Flags.data_dir = '/home/nesl/209as_sec/audio_ks/data'\n",
    "print('We will download data to {:}'.format(Flags.data_dir))\n",
    "ds_train, ds_test, ds_val = kws_data.get_training_data(Flags)\n",
    "print(\"Done getting data\")\n",
    "train_shuffle_buffer_size = 85511\n",
    "val_shuffle_buffer_size = 10102\n",
    "test_shuffle_buffer_size = 4890\n",
    "\n",
    "ds_train = ds_train.shuffle(train_shuffle_buffer_size)\n",
    "ds_val = ds_val.shuffle(val_shuffle_buffer_size)\n",
    "ds_test = ds_test.shuffle(test_shuffle_buffer_size)\n",
    "\n",
    "ds_train = ds_train.map(lambda x, y: (x, tf.one_hot(y, depth=12)))\n",
    "ds_val = ds_val.map(lambda x, y: (x, tf.one_hot(y, depth=12)))\n",
    "ds_test = ds_test.map(lambda x, y: (x, tf.one_hot(y, depth=12)))"
   ]
  },
  {
   "cell_type": "markdown",
   "metadata": {},
   "source": [
    "## Train Model"
   ]
  },
  {
   "cell_type": "code",
   "execution_count": 3,
   "metadata": {},
   "outputs": [
    {
     "name": "stdout",
     "output_type": "stream",
     "text": [
      "Model: \"model\"\n",
      "_________________________________________________________________\n",
      "Layer (type)                 Output Shape              Param #   \n",
      "=================================================================\n",
      "input_1 (InputLayer)         [(None, 49, 10, 1)]       0         \n",
      "_________________________________________________________________\n",
      "reshape (Reshape)            (None, 49, 10)            0         \n",
      "_________________________________________________________________\n",
      "gru (GRU)                    (None, 400)               494400    \n",
      "_________________________________________________________________\n",
      "pred (Dense)                 (None, 12)                4812      \n",
      "=================================================================\n",
      "Total params: 499,212\n",
      "Trainable params: 499,212\n",
      "Non-trainable params: 0\n",
      "_________________________________________________________________\n"
     ]
    }
   ],
   "source": [
    "inputs = layers.Input(shape=(49, 10, 1))\n",
    "x = inputs \n",
    "x = layers.Reshape((49,10))(x)\n",
    "x = layers.GRU(400)(x)\n",
    "outputs = layers.Dense(12, activation=\"softmax\", name=\"pred\")(x)\n",
    "model = Model(inputs = inputs, outputs = outputs)\n",
    "model.summary()"
   ]
  },
  {
   "cell_type": "code",
   "execution_count": 4,
   "metadata": {},
   "outputs": [
    {
     "name": "stdout",
     "output_type": "stream",
     "text": [
      "Epoch 1/30\n",
      "856/856 [==============================] - 19s 7ms/step - loss: 0.4664 - accuracy: 0.8598 - val_loss: 0.2003 - val_accuracy: 0.9392\n",
      "Epoch 2/30\n",
      "856/856 [==============================] - 17s 7ms/step - loss: 0.1796 - accuracy: 0.9437 - val_loss: 0.1613 - val_accuracy: 0.9513\n",
      "Epoch 3/30\n",
      "856/856 [==============================] - 17s 7ms/step - loss: 0.1325 - accuracy: 0.9587 - val_loss: 0.1492 - val_accuracy: 0.9534\n",
      "Epoch 4/30\n",
      "856/856 [==============================] - 17s 7ms/step - loss: 0.1042 - accuracy: 0.9670 - val_loss: 0.1358 - val_accuracy: 0.9599\n",
      "Epoch 5/30\n",
      "856/856 [==============================] - 17s 7ms/step - loss: 0.0853 - accuracy: 0.9726 - val_loss: 0.1535 - val_accuracy: 0.9542\n",
      "Epoch 6/30\n",
      "856/856 [==============================] - 17s 7ms/step - loss: 0.0698 - accuracy: 0.9778 - val_loss: 0.1498 - val_accuracy: 0.9574\n",
      "Epoch 7/30\n",
      "856/856 [==============================] - 17s 7ms/step - loss: 0.0594 - accuracy: 0.9812 - val_loss: 0.1602 - val_accuracy: 0.9550\n",
      "Epoch 8/30\n",
      "856/856 [==============================] - 17s 7ms/step - loss: 0.0496 - accuracy: 0.9843 - val_loss: 0.1588 - val_accuracy: 0.9589\n",
      "Epoch 9/30\n",
      "856/856 [==============================] - 17s 7ms/step - loss: 0.0468 - accuracy: 0.9849 - val_loss: 0.1518 - val_accuracy: 0.9599\n",
      "Epoch 10/30\n",
      "856/856 [==============================] - 17s 7ms/step - loss: 0.0393 - accuracy: 0.9873 - val_loss: 0.1632 - val_accuracy: 0.9580\n",
      "Epoch 11/30\n",
      "856/856 [==============================] - 17s 7ms/step - loss: 0.0364 - accuracy: 0.9881 - val_loss: 0.1763 - val_accuracy: 0.9559\n",
      "Epoch 12/30\n",
      "856/856 [==============================] - 17s 7ms/step - loss: 0.0347 - accuracy: 0.9884 - val_loss: 0.1620 - val_accuracy: 0.9616\n",
      "Epoch 13/30\n",
      "856/856 [==============================] - 17s 7ms/step - loss: 0.0308 - accuracy: 0.9898 - val_loss: 0.1644 - val_accuracy: 0.9584\n",
      "Epoch 14/30\n",
      "856/856 [==============================] - 20s 9ms/step - loss: 0.0332 - accuracy: 0.9888 - val_loss: 0.1812 - val_accuracy: 0.9597\n",
      "Epoch 15/30\n",
      "856/856 [==============================] - 26s 10ms/step - loss: 0.0272 - accuracy: 0.9908 - val_loss: 0.1942 - val_accuracy: 0.9558\n",
      "Epoch 16/30\n",
      "856/856 [==============================] - 32s 12ms/step - loss: 0.0233 - accuracy: 0.9923 - val_loss: 0.1843 - val_accuracy: 0.9594\n",
      "Epoch 17/30\n",
      "856/856 [==============================] - 28s 9ms/step - loss: 0.0262 - accuracy: 0.9914 - val_loss: 0.1790 - val_accuracy: 0.9583\n",
      "Epoch 18/30\n",
      "856/856 [==============================] - 31s 10ms/step - loss: 0.0273 - accuracy: 0.9911 - val_loss: 0.2023 - val_accuracy: 0.9566\n",
      "Epoch 19/30\n",
      "856/856 [==============================] - 31s 10ms/step - loss: 0.0275 - accuracy: 0.9907 - val_loss: 0.1803 - val_accuracy: 0.9584\n",
      "Epoch 20/30\n",
      "856/856 [==============================] - 31s 10ms/step - loss: 0.0218 - accuracy: 0.9927 - val_loss: 0.1990 - val_accuracy: 0.9557\n",
      "Epoch 21/30\n",
      "856/856 [==============================] - 32s 11ms/step - loss: 0.0237 - accuracy: 0.9918 - val_loss: 0.1929 - val_accuracy: 0.9579\n",
      "Epoch 22/30\n",
      "856/856 [==============================] - 32s 11ms/step - loss: 0.0251 - accuracy: 0.9913 - val_loss: 0.1989 - val_accuracy: 0.9600\n",
      "Epoch 23/30\n",
      "856/856 [==============================] - 32s 11ms/step - loss: 0.0238 - accuracy: 0.9918 - val_loss: 0.2206 - val_accuracy: 0.9560\n",
      "Epoch 24/30\n",
      "856/856 [==============================] - 32s 10ms/step - loss: 0.0256 - accuracy: 0.9913 - val_loss: 0.1997 - val_accuracy: 0.9597\n",
      "Epoch 25/30\n",
      "856/856 [==============================] - 32s 11ms/step - loss: 0.0232 - accuracy: 0.9923 - val_loss: 0.2083 - val_accuracy: 0.9593\n",
      "Epoch 26/30\n",
      "856/856 [==============================] - 32s 11ms/step - loss: 0.0223 - accuracy: 0.9926 - val_loss: 0.2256 - val_accuracy: 0.9540\n",
      "Epoch 27/30\n",
      "856/856 [==============================] - 32s 11ms/step - loss: 0.0306 - accuracy: 0.9896 - val_loss: 0.2228 - val_accuracy: 0.9532\n",
      "Epoch 28/30\n",
      "856/856 [==============================] - 32s 11ms/step - loss: 0.0180 - accuracy: 0.9941 - val_loss: 0.2159 - val_accuracy: 0.9557\n",
      "Epoch 29/30\n",
      "856/856 [==============================] - 32s 11ms/step - loss: 0.0263 - accuracy: 0.9913 - val_loss: 0.2226 - val_accuracy: 0.9569\n",
      "Epoch 30/30\n",
      "856/856 [==============================] - 32s 11ms/step - loss: 0.0263 - accuracy: 0.9913 - val_loss: 0.2003 - val_accuracy: 0.9557\n"
     ]
    },
    {
     "data": {
      "text/plain": [
       "<tensorflow.python.keras.callbacks.History at 0x7f9cb03416d0>"
      ]
     },
     "execution_count": 4,
     "metadata": {},
     "output_type": "execute_result"
    }
   ],
   "source": [
    "model_name = 'gru_large.h5'\n",
    "model.compile(loss='categorical_crossentropy',\n",
    "              optimizer=Adam(),\n",
    "              metrics=['accuracy'])\n",
    "\n",
    "checkpoint = ModelCheckpoint(model_name, save_best_only=True, monitor='val_accuracy')\n",
    "model.fit(ds_train,\n",
    "              epochs=30,\n",
    "              validation_data=ds_val,\n",
    "              callbacks=[checkpoint],\n",
    "              shuffle=True,\n",
    "              verbose=1)"
   ]
  },
  {
   "cell_type": "markdown",
   "metadata": {},
   "source": [
    "## Evaluate Model"
   ]
  },
  {
   "cell_type": "code",
   "execution_count": 5,
   "metadata": {},
   "outputs": [
    {
     "name": "stdout",
     "output_type": "stream",
     "text": [
      "49/49 [==============================] - 2s 11ms/step - loss: 0.3512 - accuracy: 0.9221\n"
     ]
    },
    {
     "data": {
      "text/plain": [
       "[0.35124754905700684, 0.9220858812332153]"
      ]
     },
     "execution_count": 5,
     "metadata": {},
     "output_type": "execute_result"
    }
   ],
   "source": [
    "new_model = load_model(model_name)\n",
    "new_model.evaluate(ds_test)"
   ]
  },
  {
   "cell_type": "code",
   "execution_count": null,
   "metadata": {},
   "outputs": [],
   "source": []
  }
 ],
 "metadata": {
  "kernelspec": {
   "display_name": "Python 3",
   "language": "python",
   "name": "python3"
  },
  "language_info": {
   "codemirror_mode": {
    "name": "ipython",
    "version": 3
   },
   "file_extension": ".py",
   "mimetype": "text/x-python",
   "name": "python",
   "nbconvert_exporter": "python",
   "pygments_lexer": "ipython3",
   "version": "3.8.10"
  }
 },
 "nbformat": 4,
 "nbformat_minor": 5
}
