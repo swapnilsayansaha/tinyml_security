{
 "cells": [
  {
   "cell_type": "code",
   "execution_count": 2,
   "metadata": {},
   "outputs": [
    {
     "name": "stdout",
     "output_type": "stream",
     "text": [
      "Device mapping:\n",
      "/job:localhost/replica:0/task:0/device:GPU:0 -> device: 0, name: NVIDIA GeForce RTX 3090, pci bus id: 0000:21:00.0, compute capability: 8.6\n",
      "\n"
     ]
    }
   ],
   "source": [
    "import os\n",
    "import warnings\n",
    "warnings.filterwarnings('ignore')\n",
    "os.environ['TF_CPP_MIN_LOG_LEVEL'] = '3'\n",
    "os.environ[\"CUDA_DEVICE_ORDER\"] = \"PCI_BUS_ID\"\n",
    "os.environ[\"CUDA_VISIBLE_DEVICES\"]=\"1\"\n",
    "import pandas as pd\n",
    "import numpy as np\n",
    "from gtda.time_series import SlidingWindow\n",
    "import matplotlib.pyplot as plt\n",
    "import tensorflow as tf\n",
    "from tensorflow.python.keras.backend import set_session\n",
    "config = tf.compat.v1.ConfigProto() \n",
    "config.gpu_options.allow_growth = True  \n",
    "config.log_device_placement = True  \n",
    "sess2 = tf.compat.v1.Session(config=config)\n",
    "set_session(sess2) \n",
    "from tensorflow.keras.utils import get_custom_objects\n",
    "from tensorflow.keras.backend import sigmoid\n",
    "from tensorflow.keras.models import Model\n",
    "from tensorflow.keras.optimizers import Adam\n",
    "from tensorflow.keras.callbacks import ModelCheckpoint, ReduceLROnPlateau\n",
    "from tensorflow.keras.models import Sequential\n",
    "from tensorflow.keras import layers\n",
    "import tensorflow_datasets as tfds\n",
    "from tensorflow.keras.models import load_model\n",
    "import tensorflow_hub as hub\n",
    "\n",
    "import get_dataset as kws_data\n",
    "import kws_util\n",
    "import argparse"
   ]
  },
  {
   "cell_type": "markdown",
   "metadata": {},
   "source": [
    "## Import Dataset"
   ]
  },
  {
   "cell_type": "code",
   "execution_count": 3,
   "metadata": {},
   "outputs": [
    {
     "name": "stdout",
     "output_type": "stream",
     "text": [
      "We will download data to /home/nesl/209as_sec/audio_ks/data\n",
      "Done getting data\n"
     ]
    }
   ],
   "source": [
    "Flags, unparsed = kws_util.parse_command()\n",
    "Flags.window_size_ms=40.0\n",
    "Flags.window_stride_ms=20.0\n",
    "Flags.data_dir = '/home/nesl/209as_sec/audio_ks/data'\n",
    "print('We will download data to {:}'.format(Flags.data_dir))\n",
    "ds_train, ds_test, ds_val = kws_data.get_training_data(Flags)\n",
    "print(\"Done getting data\")\n",
    "train_shuffle_buffer_size = 85511\n",
    "val_shuffle_buffer_size = 10102\n",
    "test_shuffle_buffer_size = 4890\n",
    "\n",
    "ds_train = ds_train.shuffle(train_shuffle_buffer_size)\n",
    "ds_val = ds_val.shuffle(val_shuffle_buffer_size)\n",
    "ds_test = ds_test.shuffle(test_shuffle_buffer_size)\n",
    "\n",
    "ds_train = ds_train.map(lambda x, y: (x, tf.one_hot(y, depth=12)))\n",
    "ds_val = ds_val.map(lambda x, y: (x, tf.one_hot(y, depth=12)))\n",
    "ds_test = ds_test.map(lambda x, y: (x, tf.one_hot(y, depth=12)))"
   ]
  },
  {
   "cell_type": "markdown",
   "metadata": {},
   "source": [
    "## Train Model"
   ]
  },
  {
   "cell_type": "code",
   "execution_count": 4,
   "metadata": {},
   "outputs": [
    {
     "name": "stdout",
     "output_type": "stream",
     "text": [
      "Model: \"model\"\n",
      "_________________________________________________________________\n",
      "Layer (type)                 Output Shape              Param #   \n",
      "=================================================================\n",
      "input_1 (InputLayer)         [(None, 49, 10, 1)]       0         \n",
      "_________________________________________________________________\n",
      "reshape (Reshape)            (None, 49, 10)            0         \n",
      "_________________________________________________________________\n",
      "lstm (LSTM)                  (None, 500)               1022000   \n",
      "_________________________________________________________________\n",
      "pred (Dense)                 (None, 12)                6012      \n",
      "=================================================================\n",
      "Total params: 1,028,012\n",
      "Trainable params: 1,028,012\n",
      "Non-trainable params: 0\n",
      "_________________________________________________________________\n"
     ]
    }
   ],
   "source": [
    "inputs = layers.Input(shape=(49, 10, 1))\n",
    "x = inputs \n",
    "x = layers.Reshape((49,10))(x)\n",
    "x = layers.LSTM(500)(x)\n",
    "outputs = layers.Dense(12, activation=\"softmax\", name=\"pred\")(x)\n",
    "model = Model(inputs = inputs, outputs = outputs)\n",
    "model.summary()"
   ]
  },
  {
   "cell_type": "code",
   "execution_count": 5,
   "metadata": {},
   "outputs": [
    {
     "name": "stdout",
     "output_type": "stream",
     "text": [
      "Epoch 1/30\n",
      "856/856 [==============================] - 31s 10ms/step - loss: 0.5068 - accuracy: 0.8455 - val_loss: 0.2334 - val_accuracy: 0.9307\n",
      "Epoch 2/30\n",
      "856/856 [==============================] - 30s 9ms/step - loss: 0.2126 - accuracy: 0.9336 - val_loss: 0.1869 - val_accuracy: 0.9423\n",
      "Epoch 3/30\n",
      "856/856 [==============================] - 31s 9ms/step - loss: 0.1568 - accuracy: 0.9512 - val_loss: 0.1802 - val_accuracy: 0.9423\n",
      "Epoch 4/30\n",
      "856/856 [==============================] - 32s 10ms/step - loss: 0.1251 - accuracy: 0.9606 - val_loss: 0.1684 - val_accuracy: 0.9486\n",
      "Epoch 5/30\n",
      "856/856 [==============================] - 32s 11ms/step - loss: 0.1004 - accuracy: 0.9687 - val_loss: 0.1368 - val_accuracy: 0.9594\n",
      "Epoch 6/30\n",
      "856/856 [==============================] - 31s 11ms/step - loss: 0.0832 - accuracy: 0.9740 - val_loss: 0.1541 - val_accuracy: 0.9534\n",
      "Epoch 7/30\n",
      "856/856 [==============================] - 32s 11ms/step - loss: 0.0721 - accuracy: 0.9772 - val_loss: 0.1757 - val_accuracy: 0.9537\n",
      "Epoch 8/30\n",
      "856/856 [==============================] - 32s 11ms/step - loss: 0.0640 - accuracy: 0.9797 - val_loss: 0.1567 - val_accuracy: 0.9567\n",
      "Epoch 9/30\n",
      "856/856 [==============================] - 32s 10ms/step - loss: 0.0548 - accuracy: 0.9828 - val_loss: 0.1705 - val_accuracy: 0.9555\n",
      "Epoch 10/30\n",
      "856/856 [==============================] - 32s 11ms/step - loss: 0.0488 - accuracy: 0.9845 - val_loss: 0.1753 - val_accuracy: 0.9537\n",
      "Epoch 11/30\n",
      "856/856 [==============================] - 32s 10ms/step - loss: 0.0448 - accuracy: 0.9862 - val_loss: 0.1682 - val_accuracy: 0.9576\n",
      "Epoch 12/30\n",
      "856/856 [==============================] - 32s 10ms/step - loss: 0.0391 - accuracy: 0.9879 - val_loss: 0.1754 - val_accuracy: 0.9541\n",
      "Epoch 13/30\n",
      "856/856 [==============================] - 32s 10ms/step - loss: 0.0366 - accuracy: 0.9887 - val_loss: 0.1793 - val_accuracy: 0.9559\n",
      "Epoch 14/30\n",
      "856/856 [==============================] - 32s 10ms/step - loss: 0.0333 - accuracy: 0.9893 - val_loss: 0.1880 - val_accuracy: 0.9551\n",
      "Epoch 15/30\n",
      "856/856 [==============================] - 32s 11ms/step - loss: 0.0327 - accuracy: 0.9900 - val_loss: 0.1903 - val_accuracy: 0.9561\n",
      "Epoch 16/30\n",
      "856/856 [==============================] - 32s 11ms/step - loss: 0.0287 - accuracy: 0.9915 - val_loss: 0.1844 - val_accuracy: 0.9601\n",
      "Epoch 17/30\n",
      "856/856 [==============================] - 18s 7ms/step - loss: 0.0248 - accuracy: 0.9924 - val_loss: 0.1954 - val_accuracy: 0.9565\n",
      "Epoch 18/30\n",
      "856/856 [==============================] - 17s 7ms/step - loss: 0.0264 - accuracy: 0.9919 - val_loss: 0.1932 - val_accuracy: 0.9584\n",
      "Epoch 19/30\n",
      "856/856 [==============================] - 17s 7ms/step - loss: 0.0241 - accuracy: 0.9922 - val_loss: 0.2089 - val_accuracy: 0.9550\n",
      "Epoch 20/30\n",
      "856/856 [==============================] - 17s 7ms/step - loss: 0.0210 - accuracy: 0.9935 - val_loss: 0.1995 - val_accuracy: 0.9578\n",
      "Epoch 21/30\n",
      "856/856 [==============================] - 17s 7ms/step - loss: 0.0214 - accuracy: 0.9933 - val_loss: 0.2171 - val_accuracy: 0.9543\n",
      "Epoch 22/30\n",
      "856/856 [==============================] - 17s 7ms/step - loss: 0.0211 - accuracy: 0.9932 - val_loss: 0.2036 - val_accuracy: 0.9583\n",
      "Epoch 23/30\n",
      "856/856 [==============================] - 17s 7ms/step - loss: 0.0199 - accuracy: 0.9937 - val_loss: 0.2262 - val_accuracy: 0.9520\n",
      "Epoch 24/30\n",
      "856/856 [==============================] - 17s 7ms/step - loss: 0.0212 - accuracy: 0.9931 - val_loss: 0.2124 - val_accuracy: 0.9584\n",
      "Epoch 25/30\n",
      "856/856 [==============================] - 17s 7ms/step - loss: 0.0154 - accuracy: 0.9952 - val_loss: 0.2066 - val_accuracy: 0.9563\n",
      "Epoch 26/30\n",
      "856/856 [==============================] - 17s 7ms/step - loss: 0.0173 - accuracy: 0.9946 - val_loss: 0.2272 - val_accuracy: 0.9560\n",
      "Epoch 27/30\n",
      "856/856 [==============================] - 17s 7ms/step - loss: 0.0199 - accuracy: 0.9935 - val_loss: 0.2131 - val_accuracy: 0.9591\n",
      "Epoch 28/30\n",
      "856/856 [==============================] - 17s 7ms/step - loss: 0.0147 - accuracy: 0.9951 - val_loss: 0.2295 - val_accuracy: 0.9588\n",
      "Epoch 29/30\n",
      "856/856 [==============================] - 17s 7ms/step - loss: 0.0196 - accuracy: 0.9937 - val_loss: 0.2283 - val_accuracy: 0.9560\n",
      "Epoch 30/30\n",
      "856/856 [==============================] - 17s 7ms/step - loss: 0.0155 - accuracy: 0.9950 - val_loss: 0.2299 - val_accuracy: 0.9578\n"
     ]
    },
    {
     "data": {
      "text/plain": [
       "<tensorflow.python.keras.callbacks.History at 0x7fab946ada30>"
      ]
     },
     "execution_count": 5,
     "metadata": {},
     "output_type": "execute_result"
    }
   ],
   "source": [
    "model_name = 'lstm_large.h5'\n",
    "model.compile(loss='categorical_crossentropy',\n",
    "              optimizer=Adam(),\n",
    "              metrics=['accuracy'])\n",
    "\n",
    "checkpoint = ModelCheckpoint(model_name, save_best_only=True, monitor='val_accuracy')\n",
    "model.fit(ds_train,\n",
    "              epochs=30,\n",
    "              validation_data=ds_val,\n",
    "              callbacks=[checkpoint],\n",
    "              shuffle=True,\n",
    "              verbose=1)"
   ]
  },
  {
   "cell_type": "markdown",
   "metadata": {},
   "source": [
    "## Evaluate Model"
   ]
  },
  {
   "cell_type": "code",
   "execution_count": 6,
   "metadata": {},
   "outputs": [
    {
     "name": "stdout",
     "output_type": "stream",
     "text": [
      "49/49 [==============================] - 1s 2ms/step - loss: 0.3157 - accuracy: 0.9290\n"
     ]
    },
    {
     "data": {
      "text/plain": [
       "[0.31566131114959717, 0.9290388822555542]"
      ]
     },
     "execution_count": 6,
     "metadata": {},
     "output_type": "execute_result"
    }
   ],
   "source": [
    "new_model = load_model(model_name)\n",
    "new_model.evaluate(ds_test)"
   ]
  },
  {
   "cell_type": "code",
   "execution_count": null,
   "metadata": {},
   "outputs": [],
   "source": []
  }
 ],
 "metadata": {
  "kernelspec": {
   "display_name": "Python 3",
   "language": "python",
   "name": "python3"
  },
  "language_info": {
   "codemirror_mode": {
    "name": "ipython",
    "version": 3
   },
   "file_extension": ".py",
   "mimetype": "text/x-python",
   "name": "python",
   "nbconvert_exporter": "python",
   "pygments_lexer": "ipython3",
   "version": "3.8.10"
  }
 },
 "nbformat": 4,
 "nbformat_minor": 5
}
