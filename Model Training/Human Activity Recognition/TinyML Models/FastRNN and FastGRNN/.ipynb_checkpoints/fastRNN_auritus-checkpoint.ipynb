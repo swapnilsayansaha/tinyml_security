{
 "cells": [
  {
   "cell_type": "code",
   "execution_count": null,
   "id": "ca7f63ce",
   "metadata": {},
   "outputs": [],
   "source": [
    "#95%\n",
    "import os\n",
    "os.environ['TF_CPP_MIN_LOG_LEVEL'] = '3'\n",
    "os.environ[\"CUDA_DEVICE_ORDER\"] = \"PCI_BUS_ID\"\n",
    "os.environ[\"CUDA_VISIBLE_DEVICES\"]=\"1\"\n",
    "import helpermethods\n",
    "import tensorflow as tf\n",
    "from tensorflow.python.keras.backend import set_session\n",
    "config = tf.compat.v1.ConfigProto() \n",
    "config.gpu_options.allow_growth = True  \n",
    "config.log_device_placement = True  \n",
    "sess2 = tf.compat.v1.Session(config=config)\n",
    "set_session(sess2)\n",
    "import numpy as np\n",
    "import sys\n",
    "from tensorflow.keras.layers import Dense, Input, RNN\n",
    "from tensorflow.keras.models import Model, Sequential, load_model\n",
    "from tensorflow.keras import backend as K\n",
    "from tensorflow.keras.optimizers import Adam\n",
    "from tensorflow.keras.callbacks import ModelCheckpoint\n",
    "from tensorflow.keras.losses import MSE\n",
    "\n",
    "\n",
    "#FastRNN and FastGRNN imports\n",
    "from rnn import FastGRNNCellKeras, FastRNNCellKeras\n",
    "from data_utils import *"
   ]
  },
  {
   "cell_type": "code",
   "execution_count": null,
   "id": "4288d4d3",
   "metadata": {},
   "outputs": [],
   "source": [
    "f = '/home/nesl/209as_sec/human_act/Data/Activity_Dataset/'\n",
    "model_dir = 'trained_models/'\n",
    "window_size = 550\n",
    "stride = 50\n",
    "\n",
    "X_tr, Y_tr, X_test, Y_test = import_auritus_activity_dataset(dataset_folder = f, \n",
    "                                use_timestamp=False, \n",
    "                                shuffle=True, \n",
    "                                window_size = window_size, stride = stride, \n",
    "                                return_test_set = True, test_set_size = 300)\n",
    "print(X_tr.shape)\n",
    "print(Y_tr.shape)\n",
    "print(X_test.shape)\n",
    "print(Y_test.shape)\n",
    "\n",
    "Xtrain = X_tr\n",
    "Ytrain = Y_tr\n",
    "Xtest = X_test\n",
    "Ytest = Y_test\n",
    "numClasses = Y_tr.shape[1]\n",
    "dataDimension = Xtrain[0].shape\n",
    "channels = Xtrain.shape[2]"
   ]
  },
  {
   "cell_type": "code",
   "execution_count": null,
   "id": "5894d7b7",
   "metadata": {},
   "outputs": [],
   "source": [
    "cell = \"FastRNN\" # Choose between FastGRNN, FastRNN  ###, UGRNN, GRU and LSTM\n",
    "\n",
    "inputDims = [window_size, channels] #features taken in by RNN in one timestep\n",
    "hiddenDims = 32 #hidden state of RNN\n",
    "\n",
    "totalEpochs = 300\n",
    "batchSize = 100\n",
    "\n",
    "learningRate = 0.01\n",
    "decayStep = 200\n",
    "decayRate = 0.1\n",
    "\n",
    "outFile = None #provide your file, if you need all the logging info in a file\n",
    "\n",
    "#low-rank parameterisation for weight matrices. None => Full Rank\n",
    "wRank = None \n",
    "uRank = None \n",
    "\n",
    "#Sparsity of the weight matrices. x => 100*x % are non-zeros\n",
    "#Note: Sparsity inducing is not supported in this code. \n",
    "sW = 1.0 \n",
    "sU = 1.0\n",
    "\n",
    "#Non-linearities for the RNN architecture. Can choose from \"tanh, sigmoid, relu, quantTanh, quantSigm\"\n",
    "update_non_linearity = \"tanh\"\n",
    "gate_non_linearity = \"sigmoid\"\n",
    "\n",
    "\n",
    "FastCell = FastRNNCellKeras(hiddenDims, update_non_linearity=update_non_linearity,\n",
    "                           wRank=wRank, uRank=uRank)"
   ]
  },
  {
   "cell_type": "code",
   "execution_count": null,
   "id": "54b6a7fb",
   "metadata": {},
   "outputs": [],
   "source": [
    "x = inputs = Input(shape=inputDims, name='input')\n",
    "layer_shape = K.int_shape(x)#x.get_shape()\n",
    "print(layer_shape)\n",
    "x = RNN(FastCell, return_sequences=False, name='rnn')(x)\n",
    "out = Dense(numClasses, activation='softmax', name='dense')(x)\n",
    "model = Model(inputs=inputs, outputs=out)\n",
    "Adam_ = Adam()\n",
    "model.compile(optimizer=Adam_, loss='categorical_crossentropy', metrics=['accuracy'])\n",
    "model.summary()"
   ]
  },
  {
   "cell_type": "code",
   "execution_count": null,
   "id": "c91aa629",
   "metadata": {},
   "outputs": [],
   "source": [
    "model_name = 'fastrnn.h5'\n",
    "checkpoint = ModelCheckpoint(model_name, save_best_only=True, monitor='val_accuracy')\n",
    "model.fit(Xtrain, Ytrain, batchSize, epochs=totalEpochs, validation_data=(Xtest, Ytest),callbacks=[checkpoint])"
   ]
  },
  {
   "cell_type": "code",
   "execution_count": null,
   "id": "30986550",
   "metadata": {},
   "outputs": [],
   "source": [
    "model = load_model('fastrnn.h5', custom_objects={'FastRNNCellKeras':FastCell})\n",
    "model.evaluate(Xtest,Ytest)"
   ]
  },
  {
   "cell_type": "code",
   "execution_count": null,
   "id": "df8028be",
   "metadata": {},
   "outputs": [],
   "source": [
    "model.compile(run_eagerly=False,experimental_run_tf_function=False,optimizer=Adam(), loss='categorical_crossentropy')"
   ]
  },
  {
   "cell_type": "code",
   "execution_count": null,
   "id": "37887b45",
   "metadata": {},
   "outputs": [],
   "source": [
    "model(Xtest)"
   ]
  },
  {
   "cell_type": "code",
   "execution_count": null,
   "id": "5a87696e",
   "metadata": {},
   "outputs": [],
   "source": [
    "model.compile(experimental_run_tf_function=False)"
   ]
  },
  {
   "cell_type": "code",
   "execution_count": null,
   "id": "84b91131",
   "metadata": {},
   "outputs": [],
   "source": [
    "def fgsm_attack(model, image, label, eps):\n",
    "    image = tf.cast(image, tf.float32)\n",
    "    with tf.GradientTape() as tape:\n",
    "        tape.watch(image)\n",
    "        pred = model(image)\n",
    "        loss = MSE(label, pred)\n",
    "        gradient = tape.gradient(loss, image)\n",
    "        signedGrad = tf.sign(gradient)\n",
    "        adversary = (image + (signedGrad * eps)).numpy()\n",
    "        return adversary"
   ]
  },
  {
   "cell_type": "code",
   "execution_count": null,
   "id": "5a41c9e0",
   "metadata": {},
   "outputs": [],
   "source": [
    "eps = [0.05,0.1,0.2,0.3,0.4,0.5,0.6,0.7,0.8,0.9,1.0,1.5,2.0,5.0,10.0,15.0,20.0,30.0,40.0,50.0]\n",
    "accu_num = []\n",
    "for item in eps:\n",
    "    countadv = 0\n",
    "    for i in tqdm(range(len(Xtest))):\n",
    "        act = Xtest[i,:,:].reshape(1,550,6)\n",
    "        label = Ytest[i,:]\n",
    "        actPred = model.predict(act)\n",
    "        actPred = actPred.argmax()\n",
    "        adversary = fgsm_attack(model,act, label, eps=item)\n",
    "        pred = model.predict(adversary)\n",
    "        adversaryPred = pred[0].argmax()\n",
    "        if actPred == adversaryPred:\n",
    "            countadv += 1\n",
    "        \n",
    " \n",
    "    print(\"Adversarial accuracy : \", countadv / len(X_test))\n",
    "    accu_num.append(countadv / len(X_test))       "
   ]
  },
  {
   "cell_type": "code",
   "execution_count": null,
   "id": "8462d981",
   "metadata": {},
   "outputs": [],
   "source": []
  }
 ],
 "metadata": {
  "kernelspec": {
   "display_name": "Python 3 (ipykernel)",
   "language": "python",
   "name": "python3"
  },
  "language_info": {
   "codemirror_mode": {
    "name": "ipython",
    "version": 3
   },
   "file_extension": ".py",
   "mimetype": "text/x-python",
   "name": "python",
   "nbconvert_exporter": "python",
   "pygments_lexer": "ipython3",
   "version": "3.8.10"
  }
 },
 "nbformat": 4,
 "nbformat_minor": 5
}
