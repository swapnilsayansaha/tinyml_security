{
 "cells": [
  {
   "cell_type": "code",
   "execution_count": 1,
   "metadata": {},
   "outputs": [
    {
     "name": "stdout",
     "output_type": "stream",
     "text": [
      "Device mapping:\n",
      "/job:localhost/replica:0/task:0/device:GPU:0 -> device: 0, name: NVIDIA GeForce RTX 3090, pci bus id: 0000:21:00.0, compute capability: 8.6\n",
      "\n"
     ]
    }
   ],
   "source": [
    "#95%\n",
    "import os\n",
    "os.environ['TF_CPP_MIN_LOG_LEVEL'] = '3'\n",
    "os.environ[\"CUDA_DEVICE_ORDER\"] = \"PCI_BUS_ID\"\n",
    "os.environ[\"CUDA_VISIBLE_DEVICES\"]=\"1\"\n",
    "import helpermethods\n",
    "import tensorflow as tf\n",
    "from tensorflow.python.keras.backend import set_session\n",
    "config = tf.compat.v1.ConfigProto() \n",
    "config.gpu_options.allow_growth = True  \n",
    "config.log_device_placement = True  \n",
    "sess2 = tf.compat.v1.Session(config=config)\n",
    "set_session(sess2)\n",
    "import numpy as np\n",
    "import sys\n",
    "from tensorflow.keras.layers import Dense, Input, RNN\n",
    "from tensorflow.keras.models import Model, Sequential, load_model\n",
    "from tensorflow.keras import backend as K\n",
    "from tensorflow.keras.optimizers import Adam\n",
    "from tensorflow.keras.callbacks import ModelCheckpoint\n",
    "from tensorflow.keras.losses import MSE\n",
    "\n",
    "\n",
    "#FastRNN and FastGRNN imports\n",
    "from rnn import FastGRNNCellKeras, FastRNNCellKeras\n",
    "from data_utils import *"
   ]
  },
  {
   "cell_type": "code",
   "execution_count": 2,
   "metadata": {},
   "outputs": [
    {
     "name": "stderr",
     "output_type": "stream",
     "text": [
      "100%|█████████████████████████████████████████| 399/399 [00:11<00:00, 34.28it/s]\n"
     ]
    },
    {
     "name": "stdout",
     "output_type": "stream",
     "text": [
      "(14671, 550, 6)\n",
      "(14671, 9)\n",
      "(300, 550, 6)\n",
      "(300, 9)\n"
     ]
    }
   ],
   "source": [
    "f = '/home/nesl/209as_sec/human_act/Data/Activity_Dataset/'\n",
    "model_dir = 'trained_models/'\n",
    "window_size = 550\n",
    "stride = 50\n",
    "\n",
    "X_tr, Y_tr, X_test, Y_test = import_auritus_activity_dataset(dataset_folder = f, \n",
    "                                use_timestamp=False, \n",
    "                                shuffle=True, \n",
    "                                window_size = window_size, stride = stride, \n",
    "                                return_test_set = True, test_set_size = 300)\n",
    "print(X_tr.shape)\n",
    "print(Y_tr.shape)\n",
    "print(X_test.shape)\n",
    "print(Y_test.shape)\n",
    "\n",
    "Xtrain = X_tr\n",
    "Ytrain = Y_tr\n",
    "Xtest = X_test\n",
    "Ytest = Y_test\n",
    "numClasses = Y_tr.shape[1]\n",
    "dataDimension = Xtrain[0].shape\n",
    "channels = Xtrain.shape[2]"
   ]
  },
  {
   "cell_type": "code",
   "execution_count": 3,
   "metadata": {},
   "outputs": [],
   "source": [
    "cell = \"FastRNN\" # Choose between FastGRNN, FastRNN  ###, UGRNN, GRU and LSTM\n",
    "\n",
    "inputDims = [window_size, channels] #features taken in by RNN in one timestep\n",
    "hiddenDims = 32 #hidden state of RNN\n",
    "\n",
    "totalEpochs = 300\n",
    "batchSize = 100\n",
    "\n",
    "learningRate = 0.01\n",
    "decayStep = 200\n",
    "decayRate = 0.1\n",
    "\n",
    "outFile = None #provide your file, if you need all the logging info in a file\n",
    "\n",
    "#low-rank parameterisation for weight matrices. None => Full Rank\n",
    "wRank = None \n",
    "uRank = None \n",
    "\n",
    "#Sparsity of the weight matrices. x => 100*x % are non-zeros\n",
    "#Note: Sparsity inducing is not supported in this code. \n",
    "sW = 1.0 \n",
    "sU = 1.0\n",
    "\n",
    "#Non-linearities for the RNN architecture. Can choose from \"tanh, sigmoid, relu, quantTanh, quantSigm\"\n",
    "update_non_linearity = \"tanh\"\n",
    "gate_non_linearity = \"sigmoid\"\n",
    "\n",
    "\n",
    "FastCell = FastRNNCellKeras(hiddenDims, update_non_linearity=update_non_linearity,\n",
    "                           wRank=wRank, uRank=uRank)"
   ]
  },
  {
   "cell_type": "code",
   "execution_count": 4,
   "metadata": {},
   "outputs": [
    {
     "name": "stdout",
     "output_type": "stream",
     "text": [
      "(None, 550, 6)\n",
      "Model: \"model\"\n",
      "_________________________________________________________________\n",
      "Layer (type)                 Output Shape              Param #   \n",
      "=================================================================\n",
      "input (InputLayer)           [(None, 550, 6)]          0         \n",
      "_________________________________________________________________\n",
      "rnn (RNN)                    (None, 32)                1250      \n",
      "_________________________________________________________________\n",
      "dense (Dense)                (None, 9)                 297       \n",
      "=================================================================\n",
      "Total params: 1,547\n",
      "Trainable params: 1,547\n",
      "Non-trainable params: 0\n",
      "_________________________________________________________________\n"
     ]
    },
    {
     "name": "stderr",
     "output_type": "stream",
     "text": [
      "/home/nesl/swapnil_debug/lib/python3.8/site-packages/tensorflow/python/keras/engine/base_layer.py:1331: UserWarning: `layer.updates` will be removed in a future version. This property should not be used in TensorFlow 2.0, as `updates` are applied automatically.\n",
      "  warnings.warn('`layer.updates` will be removed in a future version. '\n"
     ]
    }
   ],
   "source": [
    "x = inputs = Input(shape=inputDims, name='input')\n",
    "layer_shape = K.int_shape(x)#x.get_shape()\n",
    "print(layer_shape)\n",
    "x = RNN(FastCell, return_sequences=False, name='rnn')(x)\n",
    "out = Dense(numClasses, activation='softmax', name='dense')(x)\n",
    "model = Model(inputs=inputs, outputs=out)\n",
    "Adam_ = Adam()\n",
    "model.compile(optimizer=Adam_, loss='categorical_crossentropy', metrics=['accuracy'])\n",
    "model.summary()"
   ]
  },
  {
   "cell_type": "code",
   "execution_count": null,
   "metadata": {},
   "outputs": [],
   "source": [
    "model_name = 'fastrnn.h5'\n",
    "checkpoint = ModelCheckpoint(model_name, save_best_only=True, monitor='val_accuracy')\n",
    "model.fit(Xtrain, Ytrain, batchSize, epochs=totalEpochs, validation_data=(Xtest, Ytest),callbacks=[checkpoint])"
   ]
  },
  {
   "cell_type": "code",
   "execution_count": null,
   "metadata": {},
   "outputs": [],
   "source": [
    "model = load_model('fastrnn.h5', custom_objects={'FastRNNCellKeras':FastCell})\n",
    "model.evaluate(Xtest,Ytest)"
   ]
  },
  {
   "cell_type": "code",
   "execution_count": null,
   "metadata": {},
   "outputs": [],
   "source": []
  }
 ],
 "metadata": {
  "kernelspec": {
   "display_name": "Python 3",
   "language": "python",
   "name": "python3"
  },
  "language_info": {
   "codemirror_mode": {
    "name": "ipython",
    "version": 3
   },
   "file_extension": ".py",
   "mimetype": "text/x-python",
   "name": "python",
   "nbconvert_exporter": "python",
   "pygments_lexer": "ipython3",
   "version": "3.8.10"
  }
 },
 "nbformat": 4,
 "nbformat_minor": 5
}
