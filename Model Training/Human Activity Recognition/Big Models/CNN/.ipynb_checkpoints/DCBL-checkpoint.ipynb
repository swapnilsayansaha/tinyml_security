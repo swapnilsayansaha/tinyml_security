{
 "cells": [
  {
   "cell_type": "code",
   "execution_count": 7,
   "id": "b067324e",
   "metadata": {},
   "outputs": [
    {
     "name": "stdout",
     "output_type": "stream",
     "text": [
      "Device mapping:\n",
      "/job:localhost/replica:0/task:0/device:GPU:0 -> device: 0, name: NVIDIA GeForce RTX 3090, pci bus id: 0000:21:00.0, compute capability: 8.6\n",
      "\n"
     ]
    }
   ],
   "source": [
    "import os\n",
    "os.environ['TF_CPP_MIN_LOG_LEVEL'] = '3'\n",
    "import warnings\n",
    "warnings.filterwarnings('ignore')\n",
    "os.environ[\"CUDA_DEVICE_ORDER\"] = \"PCI_BUS_ID\"\n",
    "os.environ[\"CUDA_VISIBLE_DEVICES\"]=\"1\"\n",
    "import pandas as pd\n",
    "import numpy as np\n",
    "from gtda.time_series import SlidingWindow\n",
    "import matplotlib.pyplot as plt\n",
    "from tensorflow.python.keras.backend import set_session\n",
    "import tensorflow as tf\n",
    "config = tf.compat.v1.ConfigProto() \n",
    "config.gpu_options.allow_growth = True  \n",
    "config.log_device_placement = True  \n",
    "sess2 = tf.compat.v1.Session(config=config)\n",
    "set_session(sess2)  \n",
    "from tensorflow.keras import Input, Model, layers\n",
    "from tensorflow.keras.callbacks import ModelCheckpoint\n",
    "import tensorflow.compat.v1.keras.backend as K\n",
    "from tensorflow.keras.models import load_model\n",
    "from tensorflow.keras.utils import to_categorical\n",
    "import csv\n",
    "import random\n",
    "import itertools\n",
    "import time\n",
    "import pickle\n",
    "from data_utils import *\n",
    "\n",
    "from tensorflow.keras.models import Sequential\n",
    "from tensorflow.keras.layers import Conv2D, MaxPooling2D, LSTM, Dense, Dropout, Flatten, Bidirectional\n",
    "from tensorflow.keras.layers import BatchNormalization\n",
    "from tensorflow.keras.layers import Permute, Reshape\n",
    "from tensorflow.keras import backend as K\n",
    "from tensorflow.keras.callbacks import ModelCheckpoint\n",
    "from tensorflow.keras import regularizers\n",
    "from tensorflow.keras.optimizers import Adam"
   ]
  },
  {
   "cell_type": "markdown",
   "id": "997e6a50",
   "metadata": {},
   "source": [
    "## Import dataset"
   ]
  },
  {
   "cell_type": "code",
   "execution_count": 2,
   "id": "468e2673",
   "metadata": {},
   "outputs": [
    {
     "name": "stderr",
     "output_type": "stream",
     "text": [
      "100%|█████████████████████████████████████████| 399/399 [00:12<00:00, 33.23it/s]\n"
     ]
    },
    {
     "name": "stdout",
     "output_type": "stream",
     "text": [
      "(14671, 550, 6)\n",
      "(14671, 9)\n",
      "(300, 550, 6)\n",
      "(300, 9)\n"
     ]
    }
   ],
   "source": [
    "sampling_rate = 100\n",
    "window_size = 550\n",
    "stride = 50\n",
    "f = '/home/nesl/209as_sec/human_act/Data/Activity_Dataset/'\n",
    "\n",
    "X_tr, Y_tr, X_test, Y_test = import_auritus_activity_dataset(dataset_folder = f, \n",
    "                                use_timestamp=False, \n",
    "                                shuffle=True, \n",
    "                                window_size = window_size, stride = stride, \n",
    "                                return_test_set = True, test_set_size = 300,channels=0)\n",
    "\n",
    "print(X_tr.shape)\n",
    "print(Y_tr.shape)\n",
    "print(X_test.shape)\n",
    "print(Y_test.shape)\n",
    "\n",
    "X_tr = X_tr.swapaxes(1,2)\n",
    "X_test = X_test.swapaxes(1,2)"
   ]
  },
  {
   "cell_type": "markdown",
   "id": "051597ac",
   "metadata": {},
   "source": [
    "## Training"
   ]
  },
  {
   "cell_type": "code",
   "execution_count": 3,
   "id": "cde0977b",
   "metadata": {},
   "outputs": [],
   "source": [
    "def model_variant(model, num_feat_map, dim, network_type,p):\n",
    "    print(network_type)\n",
    "    if network_type == 'ConvLSTM':\n",
    "        model.add(Permute((2, 1, 3))) \n",
    "        model.add(Reshape((-1,num_feat_map*dim)))\n",
    "        model.add(Bidirectional(LSTM(128, return_sequences=False, stateful=False)))\n",
    "    if network_type == 'CNN':\n",
    "        \n",
    "        model.add(Flatten())\n",
    "        model.add(Dense(64, activation='relu'))\n",
    "        model.add(BatchNormalization()) \n",
    "        model.add(Dropout(p))\n",
    "\n",
    "        \n",
    "def model_conv(model, num_feat_map,p,b):\n",
    "    model.add(Conv2D(num_feat_map, kernel_size=(1, 10),    \n",
    "                 activation='relu',\n",
    "                 input_shape=(dim, win_len, 1),\n",
    "                 padding='same'))\n",
    "    \n",
    "    model.add(Conv2D(num_feat_map, kernel_size=(1, 10), activation='relu',padding='same'))\n",
    "    \n",
    "    if (b==1):\n",
    "        model.add(BatchNormalization()) \n",
    "    model.add(Conv2D(num_feat_map, kernel_size=(1, 10), activation='relu',padding='same'))\n",
    "    \n",
    "    if (b==1):\n",
    "        model.add(BatchNormalization()) \n",
    "    model.add(MaxPooling2D(pool_size=(1, 3)))\n",
    "    \n",
    "    model.add(Conv2D(num_feat_map, kernel_size=(1, 10), activation='relu',padding='same')) \n",
    "    model.add(Conv2D(num_feat_map, kernel_size=(1, 10), activation='relu',padding='same'))\n",
    "    if (b==1):\n",
    "        model.add(BatchNormalization()) \n",
    "    model.add(MaxPooling2D(pool_size=(1, 2)))\n",
    "    model.add(Dropout(p))\n",
    "    \n",
    "    model.add(Conv2D(num_feat_map, kernel_size=(1, 10), activation='relu',padding='same'))  \n",
    "    if (b==1):\n",
    "        model.add(BatchNormalization()) \n",
    "    model.add(MaxPooling2D(pool_size=(1, 2)))\n",
    "    \n",
    "    model.add(Dropout(p))\n",
    "    \n",
    "def model_LSTM(model,p):\n",
    "    model.add(LSTM(num_hidden_lstm, \n",
    "               input_shape=(win_len,dim), \n",
    "               return_sequences=True))\n",
    "    model.add(Dropout(p))\n",
    "    model.add(LSTM(num_hidden_lstm, return_sequences=False))\n",
    "    model.add(Dropout(p))\n",
    "    \n",
    "def model_output(model):\n",
    "    model.add(Dense(num_classes, activation='softmax'))"
   ]
  },
  {
   "cell_type": "code",
   "execution_count": 4,
   "id": "742f0c35",
   "metadata": {},
   "outputs": [],
   "source": [
    "batch_size = 64\n",
    "num_feat_map = 128\n",
    "num_hidden_lstm = 128\n",
    "num_classes = 9\n",
    "\n",
    "\n",
    "network_type = 'ConvLSTM'\n",
    "_, dim, win_len = X_tr.shape\n",
    "\n",
    "X_tr = np.reshape(X_tr, (-1, dim, win_len, 1))\n",
    "X_test = np.reshape(X_test, (-1, dim, win_len, 1))"
   ]
  },
  {
   "cell_type": "code",
   "execution_count": 5,
   "id": "8eb6a492",
   "metadata": {},
   "outputs": [
    {
     "name": "stdout",
     "output_type": "stream",
     "text": [
      "ConvLSTM\n",
      "Model: \"sequential\"\n",
      "_________________________________________________________________\n",
      "Layer (type)                 Output Shape              Param #   \n",
      "=================================================================\n",
      "conv2d (Conv2D)              (None, 6, 550, 128)       1408      \n",
      "_________________________________________________________________\n",
      "conv2d_1 (Conv2D)            (None, 6, 550, 128)       163968    \n",
      "_________________________________________________________________\n",
      "batch_normalization (BatchNo (None, 6, 550, 128)       512       \n",
      "_________________________________________________________________\n",
      "conv2d_2 (Conv2D)            (None, 6, 550, 128)       163968    \n",
      "_________________________________________________________________\n",
      "batch_normalization_1 (Batch (None, 6, 550, 128)       512       \n",
      "_________________________________________________________________\n",
      "max_pooling2d (MaxPooling2D) (None, 6, 183, 128)       0         \n",
      "_________________________________________________________________\n",
      "conv2d_3 (Conv2D)            (None, 6, 183, 128)       163968    \n",
      "_________________________________________________________________\n",
      "conv2d_4 (Conv2D)            (None, 6, 183, 128)       163968    \n",
      "_________________________________________________________________\n",
      "batch_normalization_2 (Batch (None, 6, 183, 128)       512       \n",
      "_________________________________________________________________\n",
      "max_pooling2d_1 (MaxPooling2 (None, 6, 91, 128)        0         \n",
      "_________________________________________________________________\n",
      "dropout (Dropout)            (None, 6, 91, 128)        0         \n",
      "_________________________________________________________________\n",
      "conv2d_5 (Conv2D)            (None, 6, 91, 128)        163968    \n",
      "_________________________________________________________________\n",
      "batch_normalization_3 (Batch (None, 6, 91, 128)        512       \n",
      "_________________________________________________________________\n",
      "max_pooling2d_2 (MaxPooling2 (None, 6, 45, 128)        0         \n",
      "_________________________________________________________________\n",
      "dropout_1 (Dropout)          (None, 6, 45, 128)        0         \n",
      "_________________________________________________________________\n",
      "permute (Permute)            (None, 45, 6, 128)        0         \n",
      "_________________________________________________________________\n",
      "reshape (Reshape)            (None, 45, 768)           0         \n",
      "_________________________________________________________________\n",
      "bidirectional (Bidirectional (None, 256)               918528    \n",
      "_________________________________________________________________\n",
      "dense (Dense)                (None, 9)                 2313      \n",
      "=================================================================\n",
      "Total params: 1,744,137\n",
      "Trainable params: 1,743,113\n",
      "Non-trainable params: 1,024\n",
      "_________________________________________________________________\n"
     ]
    }
   ],
   "source": [
    "p=0.5 #Dropout\n",
    "b = 1 #BatchNorm\n",
    "model = Sequential()\n",
    "\n",
    "if network_type=='CNN' or network_type=='ConvLSTM':\n",
    "    model_conv(model, num_feat_map,p,b)\n",
    "    model_variant(model, num_feat_map, dim, network_type,p)\n",
    "if network_type=='LSTM':\n",
    "    model_LSTM(model,p)\n",
    "       \n",
    "model_output(model)    \n",
    "model.summary()"
   ]
  },
  {
   "cell_type": "code",
   "execution_count": 8,
   "id": "12aa138a",
   "metadata": {},
   "outputs": [
    {
     "name": "stdout",
     "output_type": "stream",
     "text": [
      "Epoch 1/40\n",
      "413/413 [==============================] - 16s 28ms/step - loss: 0.7117 - accuracy: 0.7116 - val_loss: 1.1490 - val_accuracy: 0.5790\n",
      "Epoch 2/40\n",
      "413/413 [==============================] - 11s 26ms/step - loss: 0.3209 - accuracy: 0.8715 - val_loss: 0.2236 - val_accuracy: 0.9149\n",
      "Epoch 3/40\n",
      "413/413 [==============================] - 11s 26ms/step - loss: 0.2210 - accuracy: 0.9126 - val_loss: 0.1913 - val_accuracy: 0.9196\n",
      "Epoch 4/40\n",
      "413/413 [==============================] - 11s 26ms/step - loss: 0.1505 - accuracy: 0.9436 - val_loss: 0.1845 - val_accuracy: 0.9285\n",
      "Epoch 5/40\n",
      "413/413 [==============================] - 11s 26ms/step - loss: 0.1263 - accuracy: 0.9540 - val_loss: 0.1375 - val_accuracy: 0.9482\n",
      "Epoch 6/40\n",
      "413/413 [==============================] - 11s 26ms/step - loss: 0.0967 - accuracy: 0.9655 - val_loss: 0.0765 - val_accuracy: 0.9755\n",
      "Epoch 7/40\n",
      "413/413 [==============================] - 11s 26ms/step - loss: 0.0680 - accuracy: 0.9779 - val_loss: 0.1876 - val_accuracy: 0.9285\n",
      "Epoch 8/40\n",
      "413/413 [==============================] - 11s 26ms/step - loss: 0.0575 - accuracy: 0.9811 - val_loss: 0.0909 - val_accuracy: 0.9659\n",
      "Epoch 9/40\n",
      "413/413 [==============================] - 11s 26ms/step - loss: 0.0491 - accuracy: 0.9848 - val_loss: 0.1682 - val_accuracy: 0.9346\n",
      "Epoch 10/40\n",
      "413/413 [==============================] - 11s 26ms/step - loss: 0.0418 - accuracy: 0.9880 - val_loss: 0.0413 - val_accuracy: 0.9871\n",
      "Epoch 11/40\n",
      "413/413 [==============================] - 11s 27ms/step - loss: 0.0519 - accuracy: 0.9823 - val_loss: 0.0595 - val_accuracy: 0.9789\n",
      "Epoch 12/40\n",
      "413/413 [==============================] - 11s 26ms/step - loss: 0.0417 - accuracy: 0.9863 - val_loss: 0.0325 - val_accuracy: 0.9911\n",
      "Epoch 13/40\n",
      "413/413 [==============================] - 11s 26ms/step - loss: 0.0252 - accuracy: 0.9923 - val_loss: 0.0432 - val_accuracy: 0.9809\n",
      "Epoch 14/40\n",
      "413/413 [==============================] - 11s 26ms/step - loss: 0.0305 - accuracy: 0.9908 - val_loss: 0.0787 - val_accuracy: 0.9802\n",
      "Epoch 15/40\n",
      "413/413 [==============================] - 11s 26ms/step - loss: 0.0316 - accuracy: 0.9899 - val_loss: 0.0445 - val_accuracy: 0.9850\n",
      "Epoch 16/40\n",
      "413/413 [==============================] - 11s 27ms/step - loss: 0.0303 - accuracy: 0.9896 - val_loss: 0.0371 - val_accuracy: 0.9891\n",
      "Epoch 17/40\n",
      "413/413 [==============================] - 11s 26ms/step - loss: 0.0242 - accuracy: 0.9920 - val_loss: 0.0405 - val_accuracy: 0.9850\n",
      "Epoch 18/40\n",
      "413/413 [==============================] - 11s 26ms/step - loss: 0.0314 - accuracy: 0.9904 - val_loss: 0.0892 - val_accuracy: 0.9619\n",
      "Epoch 19/40\n",
      "413/413 [==============================] - 11s 26ms/step - loss: 0.0310 - accuracy: 0.9896 - val_loss: 0.0544 - val_accuracy: 0.9809\n",
      "Epoch 20/40\n",
      "413/413 [==============================] - 11s 26ms/step - loss: 0.0176 - accuracy: 0.9945 - val_loss: 0.0217 - val_accuracy: 0.9925\n",
      "Epoch 21/40\n",
      "413/413 [==============================] - 11s 26ms/step - loss: 0.0189 - accuracy: 0.9942 - val_loss: 0.0356 - val_accuracy: 0.9884\n",
      "Epoch 22/40\n",
      "413/413 [==============================] - 11s 26ms/step - loss: 0.0126 - accuracy: 0.9963 - val_loss: 0.0255 - val_accuracy: 0.9918\n",
      "Epoch 23/40\n",
      "413/413 [==============================] - 11s 27ms/step - loss: 0.0109 - accuracy: 0.9967 - val_loss: 0.0136 - val_accuracy: 0.9959\n",
      "Epoch 24/40\n",
      "413/413 [==============================] - 11s 26ms/step - loss: 0.0153 - accuracy: 0.9957 - val_loss: 0.0238 - val_accuracy: 0.9911\n",
      "Epoch 25/40\n",
      "413/413 [==============================] - 11s 26ms/step - loss: 0.0163 - accuracy: 0.9949 - val_loss: 0.0431 - val_accuracy: 0.9837\n",
      "Epoch 26/40\n",
      "413/413 [==============================] - 11s 26ms/step - loss: 0.0257 - accuracy: 0.9917 - val_loss: 0.0507 - val_accuracy: 0.9843\n",
      "Epoch 27/40\n",
      "413/413 [==============================] - 11s 27ms/step - loss: 0.0164 - accuracy: 0.9947 - val_loss: 0.0534 - val_accuracy: 0.9796\n",
      "Epoch 28/40\n",
      "413/413 [==============================] - 11s 26ms/step - loss: 0.0181 - accuracy: 0.9935 - val_loss: 0.0325 - val_accuracy: 0.9864\n",
      "Epoch 29/40\n",
      "413/413 [==============================] - 11s 27ms/step - loss: 0.0125 - accuracy: 0.9958 - val_loss: 0.0162 - val_accuracy: 0.9952\n",
      "Epoch 30/40\n",
      "413/413 [==============================] - 11s 26ms/step - loss: 0.0069 - accuracy: 0.9978 - val_loss: 0.0147 - val_accuracy: 0.9932\n",
      "Epoch 31/40\n",
      "413/413 [==============================] - 11s 26ms/step - loss: 0.0191 - accuracy: 0.9937 - val_loss: 0.0784 - val_accuracy: 0.9762\n",
      "Epoch 32/40\n",
      "413/413 [==============================] - 11s 26ms/step - loss: 0.0148 - accuracy: 0.9956 - val_loss: 0.0411 - val_accuracy: 0.9871\n",
      "Epoch 33/40\n",
      "413/413 [==============================] - 11s 26ms/step - loss: 0.0082 - accuracy: 0.9983 - val_loss: 0.0172 - val_accuracy: 0.9952\n",
      "Epoch 34/40\n",
      "413/413 [==============================] - 11s 26ms/step - loss: 0.0070 - accuracy: 0.9977 - val_loss: 0.0212 - val_accuracy: 0.9932\n",
      "Epoch 35/40\n",
      "413/413 [==============================] - 11s 27ms/step - loss: 0.0068 - accuracy: 0.9982 - val_loss: 0.0140 - val_accuracy: 0.9973\n",
      "Epoch 36/40\n",
      "413/413 [==============================] - 11s 26ms/step - loss: 0.0098 - accuracy: 0.9967 - val_loss: 0.0309 - val_accuracy: 0.9918\n",
      "Epoch 37/40\n",
      "413/413 [==============================] - 11s 27ms/step - loss: 0.0171 - accuracy: 0.9943 - val_loss: 0.0415 - val_accuracy: 0.9864\n",
      "Epoch 38/40\n",
      "413/413 [==============================] - 11s 26ms/step - loss: 0.0136 - accuracy: 0.9960 - val_loss: 0.0275 - val_accuracy: 0.9911\n",
      "Epoch 39/40\n",
      "413/413 [==============================] - 11s 27ms/step - loss: 0.0123 - accuracy: 0.9958 - val_loss: 0.0253 - val_accuracy: 0.9932\n",
      "Epoch 40/40\n",
      "413/413 [==============================] - 11s 26ms/step - loss: 0.0054 - accuracy: 0.9983 - val_loss: 0.0162 - val_accuracy: 0.9946\n"
     ]
    },
    {
     "data": {
      "text/plain": [
       "<tensorflow.python.keras.callbacks.History at 0x7fe2f434dd90>"
      ]
     },
     "execution_count": 8,
     "metadata": {},
     "output_type": "execute_result"
    }
   ],
   "source": [
    "model_name = 'dcbl.h5'\n",
    "model.compile(loss='categorical_crossentropy',\n",
    "              optimizer=Adam(),\n",
    "              metrics=['accuracy'])\n",
    "\n",
    "checkpoint = ModelCheckpoint(model_name, save_best_only=True, monitor='val_accuracy')\n",
    "model.fit(X_tr,Y_tr,\n",
    "              epochs=40,\n",
    "              validation_split=0.1,\n",
    "              callbacks=[checkpoint],\n",
    "              shuffle=True,\n",
    "              verbose=1)"
   ]
  },
  {
   "cell_type": "markdown",
   "id": "db9fe545",
   "metadata": {},
   "source": [
    "## Evaluate Model"
   ]
  },
  {
   "cell_type": "code",
   "execution_count": 11,
   "id": "7f318ccd",
   "metadata": {},
   "outputs": [
    {
     "name": "stdout",
     "output_type": "stream",
     "text": [
      "10/10 [==============================] - 1s 15ms/step - loss: 0.0070 - accuracy: 0.9967\n"
     ]
    },
    {
     "data": {
      "text/plain": [
       "[0.0070444089360535145, 0.996666669845581]"
      ]
     },
     "execution_count": 11,
     "metadata": {},
     "output_type": "execute_result"
    }
   ],
   "source": [
    "new_model = load_model(model_name)\n",
    "new_model.evaluate(X_test,Y_test)"
   ]
  },
  {
   "cell_type": "code",
   "execution_count": null,
   "id": "20691419",
   "metadata": {},
   "outputs": [],
   "source": []
  }
 ],
 "metadata": {
  "kernelspec": {
   "display_name": "Python 3 (ipykernel)",
   "language": "python",
   "name": "python3"
  },
  "language_info": {
   "codemirror_mode": {
    "name": "ipython",
    "version": 3
   },
   "file_extension": ".py",
   "mimetype": "text/x-python",
   "name": "python",
   "nbconvert_exporter": "python",
   "pygments_lexer": "ipython3",
   "version": "3.8.10"
  }
 },
 "nbformat": 4,
 "nbformat_minor": 5
}
