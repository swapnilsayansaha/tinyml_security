{
 "cells": [
  {
   "cell_type": "code",
   "execution_count": 1,
   "id": "b067324e",
   "metadata": {},
   "outputs": [
    {
     "name": "stdout",
     "output_type": "stream",
     "text": [
      "Device mapping:\n",
      "/job:localhost/replica:0/task:0/device:GPU:0 -> device: 0, name: NVIDIA GeForce RTX 3090, pci bus id: 0000:21:00.0, compute capability: 8.6\n",
      "\n"
     ]
    }
   ],
   "source": [
    "import os\n",
    "os.environ['TF_CPP_MIN_LOG_LEVEL'] = '3'\n",
    "import warnings\n",
    "warnings.filterwarnings('ignore')\n",
    "os.environ[\"CUDA_DEVICE_ORDER\"] = \"PCI_BUS_ID\"\n",
    "os.environ[\"CUDA_VISIBLE_DEVICES\"]=\"1\"\n",
    "import pandas as pd\n",
    "import numpy as np\n",
    "from gtda.time_series import SlidingWindow\n",
    "import matplotlib.pyplot as plt\n",
    "from tensorflow.python.keras.backend import set_session\n",
    "import tensorflow as tf\n",
    "config = tf.compat.v1.ConfigProto() \n",
    "config.gpu_options.allow_growth = True  \n",
    "config.log_device_placement = True  \n",
    "sess2 = tf.compat.v1.Session(config=config)\n",
    "set_session(sess2)  \n",
    "from tensorflow.keras import Input, Model, layers\n",
    "from tensorflow.keras.callbacks import ModelCheckpoint\n",
    "import tensorflow.compat.v1.keras.backend as K\n",
    "from tensorflow.keras.models import load_model\n",
    "from tensorflow.keras.utils import to_categorical\n",
    "import csv\n",
    "import random\n",
    "import itertools\n",
    "import time\n",
    "import pickle\n",
    "from data_utils import *\n",
    "\n",
    "from tensorflow.keras.models import Sequential\n",
    "from tensorflow.keras.layers import Conv2D, MaxPooling2D, LSTM, Dense, Dropout, Flatten, Bidirectional\n",
    "from tensorflow.keras.layers import BatchNormalization\n",
    "from tensorflow.keras.layers import Permute, Reshape\n",
    "from tensorflow.keras import backend as K\n",
    "from tensorflow.keras.callbacks import ModelCheckpoint\n",
    "from tensorflow.keras import regularizers\n",
    "from tensorflow.keras.optimizers import Adam"
   ]
  },
  {
   "cell_type": "markdown",
   "id": "997e6a50",
   "metadata": {},
   "source": [
    "## Import dataset"
   ]
  },
  {
   "cell_type": "code",
   "execution_count": 2,
   "id": "468e2673",
   "metadata": {},
   "outputs": [
    {
     "name": "stderr",
     "output_type": "stream",
     "text": [
      "100%|█████████████████████████████████████████| 399/399 [00:12<00:00, 31.94it/s]\n"
     ]
    },
    {
     "name": "stdout",
     "output_type": "stream",
     "text": [
      "(14671, 550, 6)\n",
      "(14671, 9)\n",
      "(300, 550, 6)\n",
      "(300, 9)\n"
     ]
    }
   ],
   "source": [
    "sampling_rate = 100\n",
    "window_size = 550\n",
    "stride = 50\n",
    "f = '/home/nesl/209as_sec/human_act/Data/Activity_Dataset/'\n",
    "\n",
    "X_tr, Y_tr, X_test, Y_test = import_auritus_activity_dataset(dataset_folder = f, \n",
    "                                use_timestamp=False, \n",
    "                                shuffle=True, \n",
    "                                window_size = window_size, stride = stride, \n",
    "                                return_test_set = True, test_set_size = 300,channels=0)\n",
    "\n",
    "print(X_tr.shape)\n",
    "print(Y_tr.shape)\n",
    "print(X_test.shape)\n",
    "print(Y_test.shape)\n"
   ]
  },
  {
   "cell_type": "markdown",
   "id": "051597ac",
   "metadata": {},
   "source": [
    "## Training"
   ]
  },
  {
   "cell_type": "code",
   "execution_count": 3,
   "id": "cde0977b",
   "metadata": {},
   "outputs": [],
   "source": [
    "def model_variant(model, num_feat_map, dim, network_type,p):\n",
    "    print(network_type)\n",
    "    if network_type == 'ConvLSTM':\n",
    "        model.add(Permute((2, 1, 3))) \n",
    "        model.add(Reshape((-1,num_feat_map*dim)))\n",
    "        model.add(Bidirectional(LSTM(128, return_sequences=False, stateful=False)))\n",
    "    if network_type == 'CNN':\n",
    "        \n",
    "        model.add(Flatten())\n",
    "        model.add(Dense(64, activation='relu'))\n",
    "        model.add(BatchNormalization()) \n",
    "        model.add(Dropout(p))\n",
    "\n",
    "        \n",
    "def model_conv(model, num_feat_map,p,b):\n",
    "    model.add(Conv2D(num_feat_map, kernel_size=(1, 10),    \n",
    "                 activation='relu',\n",
    "                 input_shape=(dim, win_len, 1),\n",
    "                 padding='same'))\n",
    "    \n",
    "    model.add(Conv2D(num_feat_map, kernel_size=(1, 10), activation='relu',padding='same'))\n",
    "    \n",
    "    if (b==1):\n",
    "        model.add(BatchNormalization()) \n",
    "    model.add(Conv2D(num_feat_map, kernel_size=(1, 10), activation='relu',padding='same'))\n",
    "    \n",
    "    if (b==1):\n",
    "        model.add(BatchNormalization()) \n",
    "    model.add(MaxPooling2D(pool_size=(1, 3)))\n",
    "    \n",
    "    model.add(Conv2D(num_feat_map, kernel_size=(1, 10), activation='relu',padding='same')) \n",
    "    model.add(Conv2D(num_feat_map, kernel_size=(1, 10), activation='relu',padding='same'))\n",
    "    if (b==1):\n",
    "        model.add(BatchNormalization()) \n",
    "    model.add(MaxPooling2D(pool_size=(1, 2)))\n",
    "    model.add(Dropout(p))\n",
    "    \n",
    "    model.add(Conv2D(num_feat_map, kernel_size=(1, 10), activation='relu',padding='same'))  \n",
    "    if (b==1):\n",
    "        model.add(BatchNormalization()) \n",
    "    model.add(MaxPooling2D(pool_size=(1, 2)))\n",
    "    \n",
    "    model.add(Dropout(p))\n",
    "    \n",
    "def model_LSTM(model,p):\n",
    "    model.add(LSTM(num_hidden_lstm, \n",
    "               input_shape=(win_len,dim), \n",
    "               return_sequences=True))\n",
    "    model.add(Dropout(p))\n",
    "    model.add(LSTM(num_hidden_lstm, return_sequences=False))\n",
    "    model.add(Dropout(p))\n",
    "    \n",
    "def model_output(model):\n",
    "    model.add(Dense(num_classes, activation='softmax'))"
   ]
  },
  {
   "cell_type": "code",
   "execution_count": 4,
   "id": "742f0c35",
   "metadata": {},
   "outputs": [],
   "source": [
    "batch_size = 64\n",
    "num_feat_map = 128\n",
    "num_hidden_lstm = 128\n",
    "num_classes = 9\n",
    "\n",
    "\n",
    "network_type = 'LSTM'\n",
    "_,win_len,dim = X_tr.shape"
   ]
  },
  {
   "cell_type": "code",
   "execution_count": 6,
   "id": "8eb6a492",
   "metadata": {},
   "outputs": [
    {
     "name": "stdout",
     "output_type": "stream",
     "text": [
      "Model: \"sequential\"\n",
      "_________________________________________________________________\n",
      "Layer (type)                 Output Shape              Param #   \n",
      "=================================================================\n",
      "lstm (LSTM)                  (None, 550, 128)          69120     \n",
      "_________________________________________________________________\n",
      "dropout (Dropout)            (None, 550, 128)          0         \n",
      "_________________________________________________________________\n",
      "lstm_1 (LSTM)                (None, 128)               131584    \n",
      "_________________________________________________________________\n",
      "dropout_1 (Dropout)          (None, 128)               0         \n",
      "_________________________________________________________________\n",
      "dense (Dense)                (None, 9)                 1161      \n",
      "=================================================================\n",
      "Total params: 201,865\n",
      "Trainable params: 201,865\n",
      "Non-trainable params: 0\n",
      "_________________________________________________________________\n"
     ]
    }
   ],
   "source": [
    "p=0.5 #Dropout\n",
    "b = 1 #BatchNorm\n",
    "model = Sequential()\n",
    "\n",
    "if network_type=='CNN' or network_type=='ConvLSTM':\n",
    "    model_conv(model, num_feat_map,p,b)\n",
    "    model_variant(model, num_feat_map, dim, network_type,p)\n",
    "if network_type=='LSTM':\n",
    "    model_LSTM(model,p)\n",
    "       \n",
    "model_output(model)    \n",
    "model.summary()"
   ]
  },
  {
   "cell_type": "code",
   "execution_count": 9,
   "id": "12aa138a",
   "metadata": {},
   "outputs": [
    {
     "name": "stdout",
     "output_type": "stream",
     "text": [
      "Epoch 1/40\n",
      "413/413 [==============================] - 22s 50ms/step - loss: 0.2128 - accuracy: 0.9165 - val_loss: 0.2078 - val_accuracy: 0.9326\n",
      "Epoch 2/40\n",
      "413/413 [==============================] - 21s 51ms/step - loss: 0.2491 - accuracy: 0.9084 - val_loss: 0.2004 - val_accuracy: 0.9278\n",
      "Epoch 3/40\n",
      "413/413 [==============================] - 21s 51ms/step - loss: 0.2757 - accuracy: 0.8978 - val_loss: 0.2467 - val_accuracy: 0.9189\n",
      "Epoch 4/40\n",
      "413/413 [==============================] - 21s 50ms/step - loss: 0.2200 - accuracy: 0.9118 - val_loss: 0.2195 - val_accuracy: 0.9149\n",
      "Epoch 5/40\n",
      "413/413 [==============================] - 21s 51ms/step - loss: 0.2008 - accuracy: 0.9208 - val_loss: 0.1817 - val_accuracy: 0.9312\n",
      "Epoch 6/40\n",
      "413/413 [==============================] - 20s 49ms/step - loss: 0.1806 - accuracy: 0.9275 - val_loss: 0.1897 - val_accuracy: 0.9257\n",
      "Epoch 7/40\n",
      "413/413 [==============================] - 20s 49ms/step - loss: 0.1761 - accuracy: 0.9261 - val_loss: 0.1997 - val_accuracy: 0.9271\n",
      "Epoch 8/40\n",
      "413/413 [==============================] - 20s 50ms/step - loss: 0.1867 - accuracy: 0.9241 - val_loss: 0.1805 - val_accuracy: 0.9251\n",
      "Epoch 9/40\n",
      "413/413 [==============================] - 21s 51ms/step - loss: 0.1924 - accuracy: 0.9240 - val_loss: 0.2517 - val_accuracy: 0.9094\n",
      "Epoch 10/40\n",
      "413/413 [==============================] - 21s 50ms/step - loss: 0.2076 - accuracy: 0.9202 - val_loss: 0.2680 - val_accuracy: 0.8958\n",
      "Epoch 11/40\n",
      "413/413 [==============================] - 21s 50ms/step - loss: 0.1920 - accuracy: 0.9233 - val_loss: 0.1680 - val_accuracy: 0.9346\n",
      "Epoch 12/40\n",
      "413/413 [==============================] - 21s 51ms/step - loss: 0.1476 - accuracy: 0.9401 - val_loss: 0.1624 - val_accuracy: 0.9298\n",
      "Epoch 13/40\n",
      "413/413 [==============================] - 20s 49ms/step - loss: 0.1645 - accuracy: 0.9353 - val_loss: 0.1808 - val_accuracy: 0.9264\n",
      "Epoch 14/40\n",
      "413/413 [==============================] - 20s 49ms/step - loss: 0.1638 - accuracy: 0.9330 - val_loss: 0.1712 - val_accuracy: 0.9366\n",
      "Epoch 15/40\n",
      "413/413 [==============================] - 21s 50ms/step - loss: 0.1441 - accuracy: 0.9449 - val_loss: 0.1454 - val_accuracy: 0.9448\n",
      "Epoch 16/40\n",
      "413/413 [==============================] - 21s 50ms/step - loss: 0.1475 - accuracy: 0.9442 - val_loss: 0.2244 - val_accuracy: 0.9210\n",
      "Epoch 17/40\n",
      "413/413 [==============================] - 21s 50ms/step - loss: 0.4081 - accuracy: 0.8728 - val_loss: 0.2341 - val_accuracy: 0.9108\n",
      "Epoch 18/40\n",
      "413/413 [==============================] - 21s 51ms/step - loss: 0.2509 - accuracy: 0.9131 - val_loss: 0.1972 - val_accuracy: 0.9292\n",
      "Epoch 19/40\n",
      "413/413 [==============================] - 21s 50ms/step - loss: 0.2290 - accuracy: 0.9218 - val_loss: 0.2408 - val_accuracy: 0.9257\n",
      "Epoch 20/40\n",
      "413/413 [==============================] - 20s 49ms/step - loss: 0.1785 - accuracy: 0.9382 - val_loss: 0.2061 - val_accuracy: 0.9264\n",
      "Epoch 21/40\n",
      "413/413 [==============================] - 20s 48ms/step - loss: 0.1357 - accuracy: 0.9518 - val_loss: 0.1607 - val_accuracy: 0.9435\n",
      "Epoch 22/40\n",
      "413/413 [==============================] - 21s 51ms/step - loss: 0.1335 - accuracy: 0.9517 - val_loss: 0.1633 - val_accuracy: 0.9455\n",
      "Epoch 23/40\n",
      "413/413 [==============================] - 21s 51ms/step - loss: 0.1071 - accuracy: 0.9615 - val_loss: 0.1276 - val_accuracy: 0.9578\n",
      "Epoch 24/40\n",
      "413/413 [==============================] - 21s 51ms/step - loss: 0.1253 - accuracy: 0.9590 - val_loss: 0.2133 - val_accuracy: 0.9319\n",
      "Epoch 25/40\n",
      "413/413 [==============================] - 21s 51ms/step - loss: 0.1687 - accuracy: 0.9436 - val_loss: 0.1812 - val_accuracy: 0.9394\n",
      "Epoch 26/40\n",
      "413/413 [==============================] - 21s 50ms/step - loss: 0.1528 - accuracy: 0.9429 - val_loss: 0.1922 - val_accuracy: 0.9353\n",
      "Epoch 27/40\n",
      "413/413 [==============================] - 20s 49ms/step - loss: 0.1255 - accuracy: 0.9543 - val_loss: 0.1381 - val_accuracy: 0.9557\n",
      "Epoch 28/40\n",
      "413/413 [==============================] - 20s 49ms/step - loss: 0.1192 - accuracy: 0.9574 - val_loss: 0.2263 - val_accuracy: 0.9394\n",
      "Epoch 29/40\n",
      "413/413 [==============================] - 21s 50ms/step - loss: 0.1541 - accuracy: 0.9481 - val_loss: 0.3019 - val_accuracy: 0.9189\n",
      "Epoch 30/40\n",
      "413/413 [==============================] - 21s 51ms/step - loss: 0.1770 - accuracy: 0.9410 - val_loss: 0.2384 - val_accuracy: 0.9298\n",
      "Epoch 31/40\n",
      "413/413 [==============================] - 21s 51ms/step - loss: 0.1394 - accuracy: 0.9571 - val_loss: 0.1609 - val_accuracy: 0.9516\n",
      "Epoch 32/40\n",
      "413/413 [==============================] - 21s 51ms/step - loss: 0.1091 - accuracy: 0.9649 - val_loss: 0.1425 - val_accuracy: 0.9584\n",
      "Epoch 33/40\n",
      "413/413 [==============================] - 21s 50ms/step - loss: 0.0934 - accuracy: 0.9715 - val_loss: 0.1394 - val_accuracy: 0.9625\n",
      "Epoch 34/40\n",
      "413/413 [==============================] - 20s 49ms/step - loss: 0.0841 - accuracy: 0.9736 - val_loss: 0.1601 - val_accuracy: 0.9523\n",
      "Epoch 35/40\n",
      "413/413 [==============================] - 20s 49ms/step - loss: 0.1337 - accuracy: 0.9570 - val_loss: 0.1832 - val_accuracy: 0.9482\n",
      "Epoch 36/40\n",
      "413/413 [==============================] - 21s 50ms/step - loss: 0.1539 - accuracy: 0.9508 - val_loss: 0.2013 - val_accuracy: 0.9251\n",
      "Epoch 37/40\n",
      "413/413 [==============================] - 21s 51ms/step - loss: 0.1022 - accuracy: 0.9655 - val_loss: 0.2201 - val_accuracy: 0.9394\n",
      "Epoch 38/40\n",
      "413/413 [==============================] - 21s 50ms/step - loss: 0.0843 - accuracy: 0.9733 - val_loss: 0.1455 - val_accuracy: 0.9578\n",
      "Epoch 39/40\n",
      "413/413 [==============================] - 21s 50ms/step - loss: 0.1249 - accuracy: 0.9629 - val_loss: 0.1320 - val_accuracy: 0.9537\n",
      "Epoch 40/40\n",
      "413/413 [==============================] - 20s 50ms/step - loss: 0.0966 - accuracy: 0.9686 - val_loss: 0.1731 - val_accuracy: 0.9435\n"
     ]
    },
    {
     "data": {
      "text/plain": [
       "<tensorflow.python.keras.callbacks.History at 0x7f903425abe0>"
      ]
     },
     "execution_count": 9,
     "metadata": {},
     "output_type": "execute_result"
    }
   ],
   "source": [
    "model_name = 'lstm.h5'\n",
    "model.compile(loss='categorical_crossentropy',\n",
    "              optimizer=Adam(),\n",
    "              metrics=['accuracy'])\n",
    "\n",
    "checkpoint = ModelCheckpoint(model_name, save_best_only=True, monitor='val_accuracy')\n",
    "model.fit(X_tr,Y_tr,\n",
    "              epochs=80,\n",
    "              validation_split=0.1,\n",
    "              callbacks=[checkpoint],\n",
    "              shuffle=True,\n",
    "              verbose=1)"
   ]
  },
  {
   "cell_type": "markdown",
   "id": "db9fe545",
   "metadata": {},
   "source": [
    "## Evaluate Model"
   ]
  },
  {
   "cell_type": "code",
   "execution_count": 10,
   "id": "7f318ccd",
   "metadata": {},
   "outputs": [
    {
     "name": "stdout",
     "output_type": "stream",
     "text": [
      "10/10 [==============================] - 1s 18ms/step - loss: 0.0962 - accuracy: 0.9733\n"
     ]
    },
    {
     "data": {
      "text/plain": [
       "[0.09624823927879333, 0.9733333587646484]"
      ]
     },
     "execution_count": 10,
     "metadata": {},
     "output_type": "execute_result"
    }
   ],
   "source": [
    "new_model = load_model(model_name)\n",
    "new_model.evaluate(X_test,Y_test)"
   ]
  },
  {
   "cell_type": "code",
   "execution_count": null,
   "id": "20691419",
   "metadata": {},
   "outputs": [],
   "source": []
  }
 ],
 "metadata": {
  "kernelspec": {
   "display_name": "Python 3 (ipykernel)",
   "language": "python",
   "name": "python3"
  },
  "language_info": {
   "codemirror_mode": {
    "name": "ipython",
    "version": 3
   },
   "file_extension": ".py",
   "mimetype": "text/x-python",
   "name": "python",
   "nbconvert_exporter": "python",
   "pygments_lexer": "ipython3",
   "version": "3.8.10"
  }
 },
 "nbformat": 4,
 "nbformat_minor": 5
}
